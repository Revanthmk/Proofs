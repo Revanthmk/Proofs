{
 "cells": [
  {
   "cell_type": "markdown",
   "metadata": {},
   "source": [
    " # Nuclei Localization using UNET"
   ]
  },
  {
   "cell_type": "markdown",
   "metadata": {},
   "source": [
    "## Dependencies"
   ]
  },
  {
   "cell_type": "code",
   "execution_count": 52,
   "metadata": {},
   "outputs": [],
   "source": [
    "import glob\n",
    "import time\n",
    "import os\n",
    "\n",
    "import matplotlib.pyplot as plt\n",
    "import cv2\n",
    "import numpy as np\n",
    "from tqdm import tqdm\n",
    "\n",
    "import tensorflow as tf\n",
    "import tensorflow.keras as keras\n",
    "from tensorflow.keras.layers import Conv2D, MaxPooling2D, UpSampling2D, Concatenate\n",
    "from tensorflow.keras.models import Model"
   ]
  },
  {
   "cell_type": "markdown",
   "metadata": {},
   "source": [
    "## Data Engineering"
   ]
  },
  {
   "cell_type": "markdown",
   "metadata": {},
   "source": [
    "### Importing Training and Testing images using cv2"
   ]
  },
  {
   "cell_type": "code",
   "execution_count": 3,
   "metadata": {},
   "outputs": [
    {
     "name": "stderr",
     "output_type": "stream",
     "text": [
      "100%|████████████████████████████████████████████████████████████████████████████████| 670/670 [00:16<00:00, 40.86it/s]\n",
      "  3%|██▌                                                                                | 2/65 [00:00<00:03, 19.94it/s]"
     ]
    },
    {
     "name": "stdout",
     "output_type": "stream",
     "text": [
      "Done importing training images\n"
     ]
    },
    {
     "name": "stderr",
     "output_type": "stream",
     "text": [
      "100%|██████████████████████████████████████████████████████████████████████████████████| 65/65 [00:01<00:00, 37.15it/s]"
     ]
    },
    {
     "name": "stdout",
     "output_type": "stream",
     "text": [
      "Done importing testing images\n"
     ]
    },
    {
     "name": "stderr",
     "output_type": "stream",
     "text": [
      "\n"
     ]
    }
   ],
   "source": [
    "train_path = \"data-science-bowl-2018\\stage1_train\"\n",
    "all_trains = os.listdir(train_path)\n",
    "test_path = \"data-science-bowl-2018\\stage1_test\"\n",
    "all_tests = os.listdir(test_path)\n",
    "img_size = 128\n",
    "\n",
    "train_img = []\n",
    "for each_train in tqdm(all_trains):\n",
    "    each_train_img = os.path.join(train_path, each_train, \"images\", each_train + \".png\")\n",
    "    each_train_img = cv2.imread(each_train_img, 1)\n",
    "    each_train_img = cv2.resize(each_train_img, (img_size, img_size))\n",
    "    train_img.append(each_train_img)\n",
    "print('Done importing training images')\n",
    "    \n",
    "test_img = []\n",
    "for each_test in tqdm(all_tests):\n",
    "    each_test_img = os.path.join(test_path, each_test, \"images\", each_test + \".png\")\n",
    "    each_test_img = cv2.imread(each_test_img, 1)\n",
    "    each_test_img = cv2.resize(each_test_img, (img_size, img_size))\n",
    "    test_img.append(each_test_img)\n",
    "print('Done importing testing images')"
   ]
  },
  {
   "cell_type": "markdown",
   "metadata": {},
   "source": [
    "### Creating masks for the training set"
   ]
  },
  {
   "cell_type": "code",
   "execution_count": 4,
   "metadata": {},
   "outputs": [
    {
     "name": "stderr",
     "output_type": "stream",
     "text": [
      "100%|████████████████████████████████████████████████████████████████████████████████| 670/670 [03:18<00:00,  3.38it/s]\n"
     ]
    }
   ],
   "source": [
    "masks_per_train = []\n",
    "for each_train in tqdm(all_trains):\n",
    "    mask_path = os.path.join(train_path, each_train, \"masks\")\n",
    "    mask_names = os.listdir(mask_path)\n",
    "    mask = np.zeros((img_size, img_size, 1))\n",
    "    for each_mask in mask_names:\n",
    "        each_mask_path = os.path.join(mask_path, each_mask)\n",
    "        mask_image = cv2.imread(each_mask_path, -1)\n",
    "        mask_image = cv2.resize(mask_image, (img_size, img_size))\n",
    "        mask_image = np.expand_dims(mask_image, axis=-1)\n",
    "        mask = np.maximum(mask, mask_image)\n",
    "    masks_per_train.append(mask)"
   ]
  },
  {
   "cell_type": "markdown",
   "metadata": {},
   "source": [
    "### Normalizing"
   ]
  },
  {
   "cell_type": "code",
   "execution_count": 5,
   "metadata": {},
   "outputs": [],
   "source": [
    "X_train = np.array(train_img)/255.0\n",
    "y_train = np.array(masks_per_train)/255.0\n",
    "\n",
    "print(X_train.shape)\n",
    "print(y_train.shape)"
   ]
  },
  {
   "cell_type": "markdown",
   "metadata": {},
   "source": [
    "## Model"
   ]
  },
  {
   "cell_type": "markdown",
   "metadata": {},
   "source": [
    "### HyperParameters"
   ]
  },
  {
   "cell_type": "code",
   "execution_count": null,
   "metadata": {},
   "outputs": [],
   "source": [
    "epochs = 10\n",
    "batch_size = 8\n",
    "filters = [64, 128, 256, 512, 1024]\n",
    "kernel_size = (3,3)\n",
    "input_shape = (img_size, img_size, 3)\n",
    "optimizer = 'adam'\n",
    "loss = \"binary_crossentropy\""
   ]
  },
  {
   "cell_type": "markdown",
   "metadata": {},
   "source": [
    "#### Defining The Model"
   ]
  },
  {
   "cell_type": "code",
   "execution_count": 8,
   "metadata": {},
   "outputs": [],
   "source": [
    "def UNet():\n",
    "    inputs = keras.layers.Input((img_size, img_size, 3))\n",
    "    \n",
    "    l0 = inputs\n",
    "    c0 = Conv2D(filters=filters[0], kernel_size=kernel_size, padding='same', activation='relu')(l0)\n",
    "    c0 = Conv2D(filters=filters[0], kernel_size=kernel_size, padding='same', activation='relu')(c0)\n",
    "    p0 = MaxPooling2D(pool_size=(2,2), padding=\"same\")(c0)\n",
    "\n",
    "    c1 = Conv2D(filters=filters[1], kernel_size=kernel_size, padding='same', activation='relu')(p0)\n",
    "    c1 = Conv2D(filters=filters[1], kernel_size=kernel_size, padding='same', activation='relu')(c1)\n",
    "    p1 = MaxPooling2D(pool_size=(2,2), padding=\"same\")(c1)\n",
    "    \n",
    "    c2 = Conv2D(filters=filters[2], kernel_size=kernel_size, padding='same', activation='relu')(p1)\n",
    "    c2 = Conv2D(filters=filters[2], kernel_size=kernel_size, padding='same', activation='relu')(c2)\n",
    "    p2 = MaxPooling2D(pool_size=(2,2), padding=\"same\")(c2)\n",
    "    \n",
    "    c3 = Conv2D(filters=filters[3], kernel_size=kernel_size, padding='same', activation='relu')(p2)\n",
    "    c3 = Conv2D(filters=filters[3], kernel_size=kernel_size, padding='same', activation='relu')(c3)\n",
    "    p3 = MaxPooling2D(pool_size=(2,2), padding=\"same\")(c3)\n",
    "    \n",
    "    b0 = Conv2D(filters=filters[4], kernel_size=kernel_size, padding='same', activation=\"relu\")(p3)\n",
    "    b0 = Conv2D(filters=filters[4], kernel_size=kernel_size, padding='same', activation=\"relu\")(b0)\n",
    "    \n",
    "    u0 = UpSampling2D((2, 2))(b0)\n",
    "    co0 = Concatenate()([u0, c3])\n",
    "    c4 = Conv2D(filters=filters[3], kernel_size=kernel_size, padding='same', activation=\"relu\")(co0)\n",
    "    c4 = Conv2D(filters=filters[3], kernel_size=kernel_size, padding='same', activation=\"relu\")(c4)\n",
    "    \n",
    "    u1 = UpSampling2D((2, 2))(c4)\n",
    "    co1 = Concatenate()([u1, c2])\n",
    "    c5 = Conv2D(filters=filters[2], kernel_size=kernel_size, padding='same', activation=\"relu\")(co1)\n",
    "    c5 = Conv2D(filters=filters[2], kernel_size=kernel_size, padding='same', activation=\"relu\")(c5)\n",
    "    \n",
    "    u2 = UpSampling2D((2, 2))(c5)\n",
    "    co2 = Concatenate()([u2, c1])\n",
    "    c6 = Conv2D(filters=filters[1], kernel_size=kernel_size, padding='same', activation=\"relu\")(co2)\n",
    "    c6 = Conv2D(filters=filters[1], kernel_size=kernel_size, padding='same', activation=\"relu\")(c6)\n",
    "    \n",
    "    u3 = UpSampling2D((2, 2))(c6)\n",
    "    co3 = Concatenate()([u3, c0])\n",
    "    c7 = Conv2D(filters=filters[0], kernel_size=kernel_size, padding='same', activation=\"relu\")(co3)\n",
    "    c7 = Conv2D(filters=filters[0], kernel_size=kernel_size, padding='same', activation=\"relu\")(c7)\n",
    "    \n",
    "    outputs = Conv2D(1,(1,1), activation='sigmoid')(c7)\n",
    "    model = Model(inputs, outputs)\n",
    "    return model"
   ]
  },
  {
   "cell_type": "markdown",
   "metadata": {},
   "source": [
    "### Compiling the graphs to the model"
   ]
  },
  {
   "cell_type": "code",
   "execution_count": 9,
   "metadata": {
    "collapsed": true,
    "jupyter": {
     "outputs_hidden": true
    }
   },
   "outputs": [
    {
     "name": "stdout",
     "output_type": "stream",
     "text": [
      "Model: \"functional_1\"\n",
      "__________________________________________________________________________________________________\n",
      "Layer (type)                    Output Shape         Param #     Connected to                     \n",
      "==================================================================================================\n",
      "input_1 (InputLayer)            [(None, 128, 128, 3) 0                                            \n",
      "__________________________________________________________________________________________________\n",
      "conv2d (Conv2D)                 (None, 128, 128, 64) 1792        input_1[0][0]                    \n",
      "__________________________________________________________________________________________________\n",
      "conv2d_1 (Conv2D)               (None, 128, 128, 64) 36928       conv2d[0][0]                     \n",
      "__________________________________________________________________________________________________\n",
      "max_pooling2d (MaxPooling2D)    (None, 64, 64, 64)   0           conv2d_1[0][0]                   \n",
      "__________________________________________________________________________________________________\n",
      "conv2d_2 (Conv2D)               (None, 64, 64, 128)  73856       max_pooling2d[0][0]              \n",
      "__________________________________________________________________________________________________\n",
      "conv2d_3 (Conv2D)               (None, 64, 64, 128)  147584      conv2d_2[0][0]                   \n",
      "__________________________________________________________________________________________________\n",
      "max_pooling2d_1 (MaxPooling2D)  (None, 32, 32, 128)  0           conv2d_3[0][0]                   \n",
      "__________________________________________________________________________________________________\n",
      "conv2d_4 (Conv2D)               (None, 32, 32, 256)  295168      max_pooling2d_1[0][0]            \n",
      "__________________________________________________________________________________________________\n",
      "conv2d_5 (Conv2D)               (None, 32, 32, 256)  590080      conv2d_4[0][0]                   \n",
      "__________________________________________________________________________________________________\n",
      "max_pooling2d_2 (MaxPooling2D)  (None, 16, 16, 256)  0           conv2d_5[0][0]                   \n",
      "__________________________________________________________________________________________________\n",
      "conv2d_6 (Conv2D)               (None, 16, 16, 512)  1180160     max_pooling2d_2[0][0]            \n",
      "__________________________________________________________________________________________________\n",
      "conv2d_7 (Conv2D)               (None, 16, 16, 512)  2359808     conv2d_6[0][0]                   \n",
      "__________________________________________________________________________________________________\n",
      "max_pooling2d_3 (MaxPooling2D)  (None, 8, 8, 512)    0           conv2d_7[0][0]                   \n",
      "__________________________________________________________________________________________________\n",
      "conv2d_8 (Conv2D)               (None, 8, 8, 1024)   4719616     max_pooling2d_3[0][0]            \n",
      "__________________________________________________________________________________________________\n",
      "conv2d_9 (Conv2D)               (None, 8, 8, 1024)   9438208     conv2d_8[0][0]                   \n",
      "__________________________________________________________________________________________________\n",
      "up_sampling2d (UpSampling2D)    (None, 16, 16, 1024) 0           conv2d_9[0][0]                   \n",
      "__________________________________________________________________________________________________\n",
      "concatenate (Concatenate)       (None, 16, 16, 1536) 0           up_sampling2d[0][0]              \n",
      "                                                                 conv2d_7[0][0]                   \n",
      "__________________________________________________________________________________________________\n",
      "conv2d_10 (Conv2D)              (None, 16, 16, 512)  7078400     concatenate[0][0]                \n",
      "__________________________________________________________________________________________________\n",
      "conv2d_11 (Conv2D)              (None, 16, 16, 512)  2359808     conv2d_10[0][0]                  \n",
      "__________________________________________________________________________________________________\n",
      "up_sampling2d_1 (UpSampling2D)  (None, 32, 32, 512)  0           conv2d_11[0][0]                  \n",
      "__________________________________________________________________________________________________\n",
      "concatenate_1 (Concatenate)     (None, 32, 32, 768)  0           up_sampling2d_1[0][0]            \n",
      "                                                                 conv2d_5[0][0]                   \n",
      "__________________________________________________________________________________________________\n",
      "conv2d_12 (Conv2D)              (None, 32, 32, 256)  1769728     concatenate_1[0][0]              \n",
      "__________________________________________________________________________________________________\n",
      "conv2d_13 (Conv2D)              (None, 32, 32, 256)  590080      conv2d_12[0][0]                  \n",
      "__________________________________________________________________________________________________\n",
      "up_sampling2d_2 (UpSampling2D)  (None, 64, 64, 256)  0           conv2d_13[0][0]                  \n",
      "__________________________________________________________________________________________________\n",
      "concatenate_2 (Concatenate)     (None, 64, 64, 384)  0           up_sampling2d_2[0][0]            \n",
      "                                                                 conv2d_3[0][0]                   \n",
      "__________________________________________________________________________________________________\n",
      "conv2d_14 (Conv2D)              (None, 64, 64, 128)  442496      concatenate_2[0][0]              \n",
      "__________________________________________________________________________________________________\n",
      "conv2d_15 (Conv2D)              (None, 64, 64, 128)  147584      conv2d_14[0][0]                  \n",
      "__________________________________________________________________________________________________\n",
      "up_sampling2d_3 (UpSampling2D)  (None, 128, 128, 128 0           conv2d_15[0][0]                  \n",
      "__________________________________________________________________________________________________\n",
      "concatenate_3 (Concatenate)     (None, 128, 128, 192 0           up_sampling2d_3[0][0]            \n",
      "                                                                 conv2d_1[0][0]                   \n",
      "__________________________________________________________________________________________________\n",
      "conv2d_16 (Conv2D)              (None, 128, 128, 64) 110656      concatenate_3[0][0]              \n",
      "__________________________________________________________________________________________________\n",
      "conv2d_17 (Conv2D)              (None, 128, 128, 64) 36928       conv2d_16[0][0]                  \n",
      "__________________________________________________________________________________________________\n",
      "conv2d_18 (Conv2D)              (None, 128, 128, 1)  65          conv2d_17[0][0]                  \n",
      "==================================================================================================\n",
      "Total params: 31,378,945\n",
      "Trainable params: 31,378,945\n",
      "Non-trainable params: 0\n",
      "__________________________________________________________________________________________________\n"
     ]
    }
   ],
   "source": [
    "model = UNet()\n",
    "model.compile(optimizer=optimizer, loss=loss, metrics=[\"acc\"])\n",
    "model.summary()"
   ]
  },
  {
   "cell_type": "markdown",
   "metadata": {},
   "source": [
    "### Training Step"
   ]
  },
  {
   "cell_type": "code",
   "execution_count": 180,
   "metadata": {
    "collapsed": true,
    "jupyter": {
     "outputs_hidden": true
    }
   },
   "outputs": [
    {
     "name": "stdout",
     "output_type": "stream",
     "text": [
      "Epoch 1/5\n",
      " 2/84 [..............................] - ETA: 14s - loss: 0.6702 - acc: 0.8192WARNING:tensorflow:Callbacks method `on_train_batch_end` is slow compared to the batch time (batch time: 0.0995s vs `on_train_batch_end` time: 0.2343s). Check your callbacks.\n",
      "84/84 [==============================] - 31s 364ms/step - loss: 0.7680 - acc: 0.8508\n",
      "Epoch 2/5\n",
      "84/84 [==============================] - 28s 338ms/step - loss: 0.1464 - acc: 0.9282\n",
      "Epoch 3/5\n",
      "84/84 [==============================] - 28s 339ms/step - loss: 0.1063 - acc: 0.9429\n",
      "Epoch 4/5\n",
      "84/84 [==============================] - 28s 339ms/step - loss: 0.1511 - acc: 0.9323\n",
      "Epoch 5/5\n",
      "84/84 [==============================] - 30s 354ms/step - loss: 0.1200 - acc: 0.9382\n"
     ]
    },
    {
     "data": {
      "text/plain": [
       "<tensorflow.python.keras.callbacks.History at 0x1d707a97880>"
      ]
     },
     "execution_count": 180,
     "metadata": {},
     "output_type": "execute_result"
    }
   ],
   "source": [
    "model.fit(X_train, y_train, batch_size = 8, epochs = 5)"
   ]
  },
  {
   "cell_type": "markdown",
   "metadata": {},
   "source": [
    "### Saving the weights"
   ]
  },
  {
   "cell_type": "code",
   "execution_count": 181,
   "metadata": {},
   "outputs": [],
   "source": [
    "model.save_weights(\"weights/UNetW_1.h5\")"
   ]
  },
  {
   "cell_type": "markdown",
   "metadata": {},
   "source": [
    "### Loading weights"
   ]
  },
  {
   "cell_type": "code",
   "execution_count": 19,
   "metadata": {},
   "outputs": [],
   "source": [
    "model.load_weights('weights/UNetW_1.h5')"
   ]
  },
  {
   "cell_type": "markdown",
   "metadata": {},
   "source": [
    "## Testing"
   ]
  },
  {
   "cell_type": "markdown",
   "metadata": {},
   "source": [
    "### Importing test images"
   ]
  },
  {
   "cell_type": "code",
   "execution_count": 45,
   "metadata": {},
   "outputs": [
    {
     "name": "stderr",
     "output_type": "stream",
     "text": [
      "100%|█████████████████████████████████████████████████████████████████████████████████| 65/65 [00:00<00:00, 252.58it/s]"
     ]
    },
    {
     "name": "stdout",
     "output_type": "stream",
     "text": [
      "Done importing testing images\n"
     ]
    },
    {
     "name": "stderr",
     "output_type": "stream",
     "text": [
      "\n"
     ]
    }
   ],
   "source": [
    "test2_path = \"data-science-bowl-2018\\stage2_test_final\"\n",
    "all_tests2 = os.listdir(test_path)\n",
    "\n",
    "test2_img = []\n",
    "for each_test in tqdm(all_tests2):\n",
    "    each_test_img = os.path.join(test_path, each_test, \"images\", each_test + \".png\")\n",
    "    each_test_img = cv2.imread(each_test_img, 1)\n",
    "    each_test_img = cv2.resize(each_test_img, (img_size, img_size))\n",
    "    test2_img.append(each_test_img)\n",
    "print('Done importing testing images')"
   ]
  },
  {
   "cell_type": "markdown",
   "metadata": {},
   "source": [
    "### Predicting step"
   ]
  },
  {
   "cell_type": "code",
   "execution_count": 49,
   "metadata": {},
   "outputs": [
    {
     "name": "stdout",
     "output_type": "stream",
     "text": [
      "(1, 128, 128, 3)\n"
     ]
    }
   ],
   "source": [
    "x = [np.array(test2_img[54])/255.0]\n",
    "x = np.array(x)\n",
    "print(x.shape)\n",
    "\n",
    "\n",
    "result = model.predict(x)\n",
    "result = result > 0.5"
   ]
  },
  {
   "cell_type": "markdown",
   "metadata": {},
   "source": [
    "### Comparing the prediction with image"
   ]
  },
  {
   "cell_type": "code",
   "execution_count": 50,
   "metadata": {},
   "outputs": [
    {
     "name": "stdout",
     "output_type": "stream",
     "text": [
      "(1, 128, 128, 3)\n"
     ]
    },
    {
     "data": {
      "image/png": "[encoded data removed]",
      "text/plain": [
       "<Figure size 432x288 with 1 Axes>"
      ]
     },
     "metadata": {
      "needs_background": "light"
     },
     "output_type": "display_data"
    }
   ],
   "source": [
    "print(x.shape)\n",
    "plt.imshow(x[0])\n",
    "plt.title('my picture')\n",
    "plt.show()"
   ]
  },
  {
   "cell_type": "code",
   "execution_count": 51,
   "metadata": {},
   "outputs": [
    {
     "data": {
      "text/plain": [
       "<matplotlib.image.AxesImage at 0x19a338ebc40>"
      ]
     },
     "execution_count": 51,
     "metadata": {},
     "output_type": "execute_result"
    },
    {
     "data": {
      "image/png": "[encoded data removed]",
      "text/plain": [
       "<Figure size 432x288 with 1 Axes>"
      ]
     },
     "metadata": {
      "needs_background": "light"
     },
     "output_type": "display_data"
    }
   ],
   "source": [
    "fig = plt.figure()\n",
    "fig.subplots_adjust(hspace=0.4, wspace=0.4)\n",
    "\n",
    "ax = fig.add_subplot(1, 2, 2)\n",
    "ax.imshow(np.reshape(result[0]*255.0, (img_size, img_size)), cmap=\"gray\")"
   ]
  },
  {
   "cell_type": "code",
   "execution_count": null,
   "metadata": {},
   "outputs": [],
   "source": []
  }
 ],
 "metadata": {
  "kernelspec": {
   "display_name": "Python 3",
   "language": "python",
   "name": "python3"
  },
  "language_info": {
   "codemirror_mode": {
    "name": "ipython",
    "version": 3
   },
   "file_extension": ".py",
   "mimetype": "text/x-python",
   "name": "python",
   "nbconvert_exporter": "python",
   "pygments_lexer": "ipython3",
   "version": "3.8.5"
  }
 },
 "nbformat": 4,
 "nbformat_minor": 4
}
