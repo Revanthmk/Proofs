{
 "cells": [
  {
   "cell_type": "code",
   "execution_count": null,
   "metadata": {},
   "outputs": [],
   "source": [
    "import pandas as pd\n",
    "import numpy as np\n",
    "import matplotlib.pyplot as plt\n",
    "import re\n",
    "import seaborn as sns"
   ]
  },
  {
   "cell_type": "code",
   "execution_count": null,
   "metadata": {},
   "outputs": [],
   "source": [
    "df = pd.read_csv('../input/Tweets.csv')"
   ]
  },
  {
   "cell_type": "code",
   "execution_count": null,
   "metadata": {},
   "outputs": [],
   "source": [
    "df.head()"
   ]
  },
  {
   "cell_type": "code",
   "execution_count": null,
   "metadata": {},
   "outputs": [],
   "source": [
    "def clean_df(df):\n",
    "    df = df.loc[: , ['airline_sentiment', 'airline_sentiment_confidence','negativereason','negativereason_confidence',              'name','text','tweet_coord','tweet_created','airline']].rename(columns = {'airline_sentiment':'Rating',airline_sentiment_confidence':'Rating_Conf','negativereason':'Negative_Reason','negativereason_confidence':'Reason_Conf','name':'User','text':'Text','tweet_coord':'Coordinates','tweet_created':'Date'}).set_index('Date')\n",
    "    return df\n",
    "clean_df(df).head(10)"
   ]
  },
  {
   "cell_type": "code",
   "execution_count": null,
   "metadata": {},
   "outputs": [],
   "source": [
    "print(clean_df(df).groupby('airline')['Rating'].count())"
   ]
  },
  {
   "cell_type": "code",
   "execution_count": null,
   "metadata": {},
   "outputs": [],
   "source": [
    "ax = clean_df(df).groupby(['airline','Rating']).count().iloc[:,0].unstack(0).plot(kind = 'bar', title = 'Airline Ratings via Twitter')\n",
    "ax.set_xlabel('Rating')\n",
    "ax.set_ylabel('Rating Count')\n",
    "plt.show()"
   ]
  },
  {
   "cell_type": "code",
   "execution_count": null,
   "metadata": {},
   "outputs": [],
   "source": [
    "itemized_tweets = clean_df(df).groupby(['airline','Rating']).count().iloc[:,0]\n",
    "total_tweets = clean_df(df).groupby(['airline'])['Rating'].count()"
   ]
  },
  {
   "cell_type": "code",
   "execution_count": null,
   "metadata": {},
   "outputs": [],
   "source": [
    "my_dict = {'American':itemized_tweets[0] / total_tweets[0],\n",
    "           'Delta':itemized_tweets[3] / total_tweets[1],\n",
    "           'Southwest': itemized_tweets[6] / total_tweets[2],\n",
    "           'US Airways': itemized_tweets[9] / total_tweets[3],\n",
    "           'United': itemized_tweets[12] / total_tweets[4],\n",
    "           'Virgin': itemized_tweets[15] / total_tweets[5]}\n",
    "\n",
    "perc_negative = pd.DataFrame.from_dict(my_dict, orient = 'index')\n",
    "perc_negative.columns = ['Percent Negative']\n",
    "print(perc_negative)\n",
    "ax = perc_negative.plot(kind = 'bar', rot=0, colormap = 'Blues_r', figsize = (15,6))\n",
    "ax.set_xlabel('Airlines')\n",
    "ax.set_ylabel('Percent Negative')\n",
    "plt.show()"
   ]
  },
  {
   "cell_type": "code",
   "execution_count": null,
   "metadata": {},
   "outputs": [],
   "source": [
    "itemized_tweets = clean_df(df).groupby(['airline','Rating']).count().iloc[:,0]\n",
    "#Positve tweet total index for each airline:\n",
    "\n",
    "total_tweets = clean_df(df).groupby(['airline'])['Rating'].count()\n",
    "#Airline index in total tweets:\n",
    "\n",
    "#Create a dictionary of percentage of positive tweets = (positive_tweets / total_tweets)\n",
    "my_dict = {'American':itemized_tweets[2] / total_tweets[0],\n",
    "           'Delta':itemized_tweets[5] / total_tweets[1],\n",
    "           'Southwest': itemized_tweets[8] / total_tweets[2],\n",
    "           'US Airways': itemized_tweets[11] / total_tweets[3],\n",
    "           'United': itemized_tweets[14] / total_tweets[4],\n",
    "           'Virgin': itemized_tweets[17] / total_tweets[5]}\n",
    "\n",
    "#make a dataframe from the dictionary\n",
    "perc_positive = pd.DataFrame.from_dict(my_dict, orient = 'index')\n",
    "#have to manually set column name when using .from_dict() method\n",
    "perc_positive.columns = ['Percent Positive']\n",
    "print(perc_positive)\n",
    "ax = perc_positive.plot(kind = 'bar', rot=0, colormap = 'Blues_r', figsize = (15,6))\n",
    "ax.set_xlabel('Airlines')\n",
    "ax.set_ylabel('Percent Positve')\n",
    "plt.show()"
   ]
  },
  {
   "cell_type": "code",
   "execution_count": null,
   "metadata": {},
   "outputs": [],
   "source": [
    "def merge_dfs(x,y,z):\n",
    "    #generate a list of the dataframes\n",
    "    list_of_dfs = [x,y,z]\n",
    "    #concatenate the dataframes, axis = 1 because they all have the same index, we just want to add the columns together\n",
    "    concatenated_dataframe = pd.concat(list_of_dfs, axis = 1)\n",
    "    return concatenated_dataframe"
   ]
  },
  {
   "cell_type": "code",
   "execution_count": null,
   "metadata": {},
   "outputs": [],
   "source": [
    "itemized_tweets = clean_df(df).groupby(['airline','Rating']).count().iloc[:,0]\n",
    "\n",
    "total_tweets = clean_df(df).groupby(['airline'])['Rating'].count()\n",
    "\n",
    "#Create a dictionary of percentage of positive tweets = (positive_tweets / total_tweets)\n",
    "my_dict = {'American':itemized_tweets[1] / total_tweets[0],\n",
    "           'Delta':itemized_tweets[4] / total_tweets[1],\n",
    "           'Southwest': itemized_tweets[7] / total_tweets[2],\n",
    "           'US Airways': itemized_tweets[10] / total_tweets[3],\n",
    "           'United': itemized_tweets[13] / total_tweets[4],\n",
    "           'Virgin': itemized_tweets[16] / total_tweets[5]}\n",
    "\n",
    "#make a dataframe from the dictionary\n",
    "perc_neutral = pd.DataFrame.from_dict(my_dict, orient = 'index')\n",
    "#Have to manually set column name\n",
    "perc_neutral.columns = ['Percent Neutral']\n",
    "\n",
    "#call our function to concatenate all 3 dataframes of percentages\n",
    "percentage = merge_dfs(perc_neutral, perc_negative, perc_positive)\n",
    "print(percentage)\n",
    "\n",
    "#graph all of our data\n",
    "ax = percentage.plot(kind = 'bar', stacked = True, rot = 0, figsize = (15,6))\n",
    "#set x label\n",
    "ax.set_xlabel('Airlines')\n",
    "#set y label\n",
    "ax.set_ylabel('Percentages')\n",
    "#move the legend to the bottom of the graph since it wants to sit over all of our data and block it - stupid legend\n",
    "ax.legend(loc='upper center', bbox_to_anchor=(0.5, -0.1),\n",
    "          fancybox=True, shadow=True, ncol=5)\n",
    "\n",
    "plt.show()"
   ]
  },
  {
   "cell_type": "code",
   "execution_count": null,
   "metadata": {},
   "outputs": [],
   "source": [
    "observation = list(clean_df(df).reset_index().iloc[6750:6755,8])\n",
    "tweet_text = list(clean_df(df).reset_index().iloc[6750:6755,6])\n",
    "\n",
    "for pos, item in enumerate(observation):\n",
    "    print('Airline as compiled: ' + str(item))\n",
    "    print('The actual tweet text: ')\n",
    "    print(tweet_text[pos], '\\n''\\n')\n",
    "new_df = clean_df(df).iloc[:,0:7]\n",
    "new_df.head()"
   ]
  },
  {
   "cell_type": "code",
   "execution_count": null,
   "metadata": {},
   "outputs": [],
   "source": [
    "new_df['Airline'] = new_df.Text.apply(lambda x: re.findall('\\@[A-Za-z]+', x)[0])\n",
    "\n",
    "#check that our regular expression is working\n",
    "list(new_df.Airline.head(10))"
   ]
  },
  {
   "cell_type": "code",
   "execution_count": null,
   "metadata": {},
   "outputs": [],
   "source": [
    "twitter_tags = np.unique(new_df.Airline, return_counts = True)\n",
    "\n",
    "#compile twitter_tags so that it lists the unique tag and its total count side by side instead of 2 seperate arrays\n",
    "twitter_tags_count = list(zip(twitter_tags[0],twitter_tags[1]))\n",
    "twitter_tags_count"
   ]
  },
  {
   "cell_type": "code",
   "execution_count": null,
   "metadata": {},
   "outputs": [],
   "source": [
    "airline_list = ['@virginamerica','@united','@southwestair','@americanair','@jetblue','@usairways']\n",
    "    \n",
    "airlines = re.compile('|'.join(airline_list), re.IGNORECASE)\n",
    "    \n",
    "new_df['Airline'] = new_df.Airline.apply(lambda x: np.squeeze(re.findall(airlines, x))).str.split('@').str[1]\n",
    "print(list(new_df.Airline.head(10)))"
   ]
  },
  {
   "cell_type": "code",
   "execution_count": null,
   "metadata": {},
   "outputs": [],
   "source": [
    "no_airline = new_df.reset_index()\n",
    "no_airline = no_airline[no_airline.Airline.isnull()].Text.apply(lambda x: re.findall('\\@[A-Za-z]+', x))\n",
    "no_airline"
   ]
  },
  {
   "cell_type": "code",
   "execution_count": null,
   "metadata": {},
   "outputs": [],
   "source": [
    "rating = list(new_df.Rating)\n",
    "conf = list(new_df.Rating_Conf)\n",
    "text = list(new_df.Text)\n",
    "\n",
    "for i in range(10):\n",
    "    print(rating[i], '\\n', conf[i], '\\n', text[i],'\\n','\\n')"
   ]
  },
  {
   "cell_type": "code",
   "execution_count": null,
   "metadata": {},
   "outputs": [],
   "source": [
    "conf_df = new_df[new_df.Rating_Conf >= 0.51 ]\n",
    "print(conf_df.info())\n",
    "conf_df.head(10)"
   ]
  },
  {
   "cell_type": "code",
   "execution_count": null,
   "metadata": {},
   "outputs": [],
   "source": [
    "date = conf_df.reset_index()\n",
    "#convert the Date column to pandas datetime\n",
    "date.Date = pd.to_datetime(date.Date)\n",
    "#Reduce the dates in the date column to only the date and no time stamp using the 'dt.date' method\n",
    "date.Date = date.Date.dt.date\n",
    "date.Date.head()"
   ]
  },
  {
   "cell_type": "code",
   "execution_count": null,
   "metadata": {},
   "outputs": [],
   "source": [
    "conf_df = date\n",
    "conf_df.head()"
   ]
  },
  {
   "cell_type": "code",
   "execution_count": null,
   "metadata": {},
   "outputs": [],
   "source": [
    "test = conf_df[conf_df.Airline != 'Delta Airlines'].groupby(['Airline','Rating']).count().iloc[:,0]\n",
    "test"
   ]
  },
  {
   "cell_type": "code",
   "execution_count": null,
   "metadata": {},
   "outputs": [],
   "source": [
    "print(conf_df.Date.min())\n",
    "print(conf_df.Date.max())"
   ]
  },
  {
   "cell_type": "code",
   "execution_count": null,
   "metadata": {},
   "outputs": [],
   "source": [
    "day_df = day_df.reset_index()\n",
    "day_df.head()"
   ]
  },
  {
   "cell_type": "code",
   "execution_count": null,
   "metadata": {},
   "outputs": [],
   "source": [
    "day_df = day_df.rename(columns = {0:'Count'})\n",
    "#filter to only negative ratings\n",
    "day_df = day_df[day_df.Rating == 'negative'].reset_index()\n",
    "#Remove delta since it only has 2 entries\n",
    "day_df = day_df[day_df.Airline != 'Delta Airlines']\n",
    "day_df.head()"
   ]
  },
  {
   "cell_type": "code",
   "execution_count": null,
   "metadata": {},
   "outputs": [],
   "source": [
    "day_df = day_df.iloc[:,1:5]\n",
    "\n",
    "#groupby and plot data\n",
    "ax2 = day_df.groupby(['Date','Airline']).sum().unstack().plot(kind = 'bar', colormap = 'viridis', figsize = (15,6), rot = 70)\n",
    "labels = ['American Airlines','Jet Blue','Southwest Airlines','US Airways','United Airlines','Virgin Airlines']\n",
    "ax2.legend(labels = labels)\n",
    "ax2.set_xlabel('Date')\n",
    "ax2.set_ylabel('Negative Tweets')\n",
    "plt.show()"
   ]
  },
  {
   "cell_type": "code",
   "execution_count": null,
   "metadata": {},
   "outputs": [],
   "source": []
  },
  {
   "cell_type": "code",
   "execution_count": null,
   "metadata": {},
   "outputs": [],
   "source": []
  },
  {
   "cell_type": "code",
   "execution_count": null,
   "metadata": {},
   "outputs": [],
   "source": []
  }
 ],
 "metadata": {
  "kernelspec": {
   "display_name": "Python 3",
   "language": "python",
   "name": "python3"
  },
  "language_info": {
   "codemirror_mode": {
    "name": "ipython",
    "version": 3
   },
   "file_extension": ".py",
   "mimetype": "text/x-python",
   "name": "python",
   "nbconvert_exporter": "python",
   "pygments_lexer": "ipython3",
   "version": "3.8.5"
  }
 },
 "nbformat": 4,
 "nbformat_minor": 4
}
