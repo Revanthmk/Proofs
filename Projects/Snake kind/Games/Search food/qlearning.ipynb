{
 "cells": [
  {
   "cell_type": "code",
   "execution_count": 1,
   "metadata": {},
   "outputs": [],
   "source": [
    "import cv2\n",
    "import numpy as np\n",
    "import matplotlib.pyplot as plt\n",
    "import PIL\n",
    "from PIL import Image\n",
    "import pickle\n",
    "from matplotlib import style\n",
    "import time\n",
    "\n",
    "style.use('ggplot')"
   ]
  },
  {
   "cell_type": "code",
   "execution_count": 2,
   "metadata": {},
   "outputs": [],
   "source": [
    "size = 10\n",
    "num_episodes = 25000\n",
    "move_penalty = 1\n",
    "food_reward = 50\n",
    "enemy_penalty = 300\n",
    "episode_rewards = []"
   ]
  },
  {
   "cell_type": "code",
   "execution_count": 3,
   "metadata": {},
   "outputs": [],
   "source": [
    "epsilon = 0.9\n",
    "eps_decay = 0.9998\n",
    "show_every = 3000"
   ]
  },
  {
   "cell_type": "code",
   "execution_count": 4,
   "metadata": {},
   "outputs": [],
   "source": [
    "start_q_table = None"
   ]
  },
  {
   "cell_type": "code",
   "execution_count": 5,
   "metadata": {},
   "outputs": [],
   "source": [
    "learning_rate = 0.1\n",
    "discount = 0.95"
   ]
  },
  {
   "cell_type": "code",
   "execution_count": 6,
   "metadata": {},
   "outputs": [],
   "source": [
    "player_n = 1\n",
    "food_n = 2\n",
    "enemy_n =3"
   ]
  },
  {
   "cell_type": "code",
   "execution_count": 7,
   "metadata": {},
   "outputs": [],
   "source": [
    "d = { 1:(255 , 175, 0),\n",
    "      2:(0, 255, 0),\n",
    "      3:(0, 0, 255) }"
   ]
  },
  {
   "cell_type": "code",
   "execution_count": 11,
   "metadata": {},
   "outputs": [],
   "source": [
    "class Blob:\n",
    "    def __init__(self):\n",
    "        self.x = np.random.randint(0, size)\n",
    "        self.y = np.random.randint(0, size)\n",
    "    \n",
    "    def __str__(self):\n",
    "        return f\"{self.x}, {self.y}\"\n",
    "    \n",
    "    def __sub__(self, other):\n",
    "        return (self.x - other.x, self.y - other.y)\n",
    "    \n",
    "    def action(self, choice):\n",
    "        if choice == 0:\n",
    "            self.move(x=1, y=1)  #to be left\n",
    "        elif choice == 1:\n",
    "            self.move(x=-1, y=1)  #to be up\n",
    "        elif choice == 2:\n",
    "            self.move(x=1, y=-1)  #to be right\n",
    "        elif choice == 3:\n",
    "            self.move(x=-1, y=-1) #to be down\n",
    "        \n",
    "    def move(self, x=False, y=False):\n",
    "        if not x:\n",
    "            self.x += 0\n",
    "        else:\n",
    "            self.x += x\n",
    "        \n",
    "        if not y:\n",
    "            self.y += 0\n",
    "        else:\n",
    "            self.y += y\n",
    "            \n",
    "        if self.x < 0:\n",
    "            self.x = 0\n",
    "        elif self.x > size-1:\n",
    "            self.x = size-1\n",
    "            \n",
    "        if self.y < 0:\n",
    "            self.y = 0\n",
    "        elif self.y > size-1:\n",
    "            self.y = size-1"
   ]
  },
  {
   "cell_type": "code",
   "execution_count": 27,
   "metadata": {},
   "outputs": [],
   "source": [
    "if start_q_table is None:\n",
    "    q_table = {}\n",
    "    \n",
    "    for x1 in range(-size+1, size):\n",
    "        for y1 in range(-size+1, size):\n",
    "            for x2 in range(-size+1, size):\n",
    "                for y2 in range(-size+1, size):\n",
    "                    q_table[((x1, y1),(x2, y2))] = [np.random.uniform(-5,0) for i in range(4)]\n",
    "\n",
    "else:\n",
    "    with open(start__table, 'rb') as f:\n",
    "        q_table = pickle.load(f)"
   ]
  },
  {
   "cell_type": "code",
   "execution_count": 21,
   "metadata": {},
   "outputs": [
    {
     "name": "stdout",
     "output_type": "stream",
     "text": [
      "on # 0, epsilon:2.7478942614859856e-07\n",
      "3000 ep avg 1.8993333333333333\n"
     ]
    },
    {
     "ename": "IndexError",
     "evalue": "index 6 is out of bounds for axis 0 with size 2",
     "output_type": "error",
     "traceback": [
      "\u001b[1;31m---------------------------------------------------------------------------\u001b[0m",
      "\u001b[1;31mIndexError\u001b[0m                                Traceback (most recent call last)",
      "\u001b[1;32m<ipython-input-21-54adb724961d>\u001b[0m in \u001b[0;36m<module>\u001b[1;34m\u001b[0m\n\u001b[0;32m     30\u001b[0m         \u001b[0mnew_obs\u001b[0m \u001b[1;33m=\u001b[0m \u001b[1;33m(\u001b[0m\u001b[0mplayer\u001b[0m\u001b[1;33m-\u001b[0m\u001b[0mfood\u001b[0m\u001b[1;33m,\u001b[0m \u001b[0mplayer\u001b[0m\u001b[1;33m-\u001b[0m\u001b[0menemy\u001b[0m\u001b[1;33m)\u001b[0m\u001b[1;33m\u001b[0m\u001b[1;33m\u001b[0m\u001b[0m\n\u001b[0;32m     31\u001b[0m         \u001b[0mmax_future_q\u001b[0m \u001b[1;33m=\u001b[0m \u001b[0mnp\u001b[0m\u001b[1;33m.\u001b[0m\u001b[0mmax\u001b[0m\u001b[1;33m(\u001b[0m\u001b[0mq_table\u001b[0m\u001b[1;33m[\u001b[0m\u001b[0mnew_obs\u001b[0m\u001b[1;33m]\u001b[0m\u001b[1;33m)\u001b[0m\u001b[1;33m\u001b[0m\u001b[1;33m\u001b[0m\u001b[0m\n\u001b[1;32m---> 32\u001b[1;33m         \u001b[0mcurrent_q\u001b[0m \u001b[1;33m=\u001b[0m \u001b[0mq_table\u001b[0m\u001b[1;33m[\u001b[0m\u001b[0mobs\u001b[0m\u001b[1;33m]\u001b[0m\u001b[1;33m[\u001b[0m\u001b[0maction\u001b[0m\u001b[1;33m]\u001b[0m\u001b[1;33m\u001b[0m\u001b[1;33m\u001b[0m\u001b[0m\n\u001b[0m\u001b[0;32m     33\u001b[0m \u001b[1;33m\u001b[0m\u001b[0m\n\u001b[0;32m     34\u001b[0m         \u001b[1;32mif\u001b[0m \u001b[0mreward\u001b[0m \u001b[1;33m==\u001b[0m \u001b[0mfood_reward\u001b[0m\u001b[1;33m:\u001b[0m\u001b[1;33m\u001b[0m\u001b[1;33m\u001b[0m\u001b[0m\n",
      "\u001b[1;31mIndexError\u001b[0m: index 6 is out of bounds for axis 0 with size 2"
     ]
    }
   ],
   "source": [
    "for episode in range(num_episodes):\n",
    "    player = Blob()\n",
    "    food = Blob()\n",
    "    enemy = Blob()\n",
    "    \n",
    "    if episode % show_every == 0:\n",
    "        print(f\"on # {episode}, epsilon:{epsilon}\")\n",
    "        print(f\"{show_every} ep avg {np.mean(episode_rewards[-show_every:])}\")\n",
    "        show = Tru\n",
    "    else:\n",
    "        show = False\n",
    "        \n",
    "    episode_reward = 0\n",
    "    for i in range(200):\n",
    "        obs = (player-food, player-enemy)\n",
    "        \n",
    "        if np.random.random() > epsilon:\n",
    "            action = np.argmax(q_table[obs])\n",
    "        else:\n",
    "            action = np.random.randint(0, 4)\n",
    "            \n",
    "        player.action(action)\n",
    "        \n",
    "        if player.x == enemy.x and player.y == enemy.y:\n",
    "            reward = -enemy_penalty\n",
    "        elif player.x == food.x and player.y == food.y:\n",
    "            reward = food_reward    \n",
    "        else:\n",
    "            reward = -move_penalty\n",
    "            \n",
    "        new_obs = (player-food, player-enemy)\n",
    "        max_future_q = np.max(q_table[new_obs])\n",
    "        current_q = q_table[obs][action]\n",
    "        \n",
    "        if reward == food_reward:\n",
    "            new_q = food_reward\n",
    "        elif reward == -enemy_penalty:\n",
    "            new_q = -enemy_penalty\n",
    "        else:\n",
    "            new_q = (1-learning_rate) * current_q + learning_rate * (reward + discount * max_future_q)\n",
    "            \n",
    "            \n",
    "        q_table[obs][action] = new_q\n",
    "        \n",
    "        if show:\n",
    "            env = np.zeros((size, size, 3), dtype=np.uint8)\n",
    "\n",
    "            env[food.x][food.y] = d[food_n]  \n",
    "            env[player.x][player.y] = d[player_n]  \n",
    "            env[enemy.x][enemy.y] = d[enemy_n]\n",
    "            \n",
    "            img = Image.fromarray(env, 'RGB')  \n",
    "            img = img.resize((300, 300)) \n",
    "            \n",
    "            cv2.imshow('image', np.array(img))\n",
    "            \n",
    "            if reward == food_reward or reward == -enemy_penalty:\n",
    "                if cv2.waitKey(1000) & 0xFFF == ord('q'):\n",
    "                    break\n",
    "            else:\n",
    "                if cv2.waitKey(10) & 0xFFF == ord('q'):\n",
    "                    break\n",
    "        \n",
    "        episode_reward += reward\n",
    "        if reward == food_reward or reward == -enemy_penalty:\n",
    "            break\n",
    "    episode_rewards.append(episode_reward)\n",
    "    epsilon *= eps_decay\n",
    "\n",
    "\n",
    "moving_avg = np.convolve(episode_rewards, np.ones((show_every))/show_every, mode='valid')\n",
    "\n",
    "plt.plot([i for i in range(len(moving_avg))], moving_avg)\n",
    "plt.ylabel(f'reward {show_every}ma')\n",
    "plt.xlabel('episode num')\n",
    "plt.show()\n",
    "\n",
    "with open(f\"qtable-{int(time.time())}.pickle\", \"wb\") as f:\n",
    "    pickle.dump(q_table, f)"
   ]
  },
  {
   "cell_type": "code",
   "execution_count": null,
   "metadata": {},
   "outputs": [],
   "source": []
  },
  {
   "cell_type": "code",
   "execution_count": null,
   "metadata": {},
   "outputs": [],
   "source": []
  },
  {
   "cell_type": "code",
   "execution_count": null,
   "metadata": {},
   "outputs": [],
   "source": []
  }
 ],
 "metadata": {
  "kernelspec": {
   "display_name": "Python 3",
   "language": "python",
   "name": "python3"
  },
  "language_info": {
   "codemirror_mode": {
    "name": "ipython",
    "version": 3
   },
   "file_extension": ".py",
   "mimetype": "text/x-python",
   "name": "python",
   "nbconvert_exporter": "python",
   "pygments_lexer": "ipython3",
   "version": "3.7.5"
  }
 },
 "nbformat": 4,
 "nbformat_minor": 4
}
