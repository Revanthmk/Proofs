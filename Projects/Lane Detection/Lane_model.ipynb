{
  "nbformat": 4,
  "nbformat_minor": 0,
  "metadata": {
    "colab": {
      "name": "Lane_model.ipynb",
      "provenance": [],
      "collapsed_sections": [],
      "machine_shape": "hm"
    },
    "kernelspec": {
      "name": "python3",
      "display_name": "Python 3"
    }
  },
  "cells": [
    {
      "cell_type": "code",
      "metadata": {
        "colab_type": "code",
        "id": "nS0vGBvEMS3n",
        "colab": {}
      },
      "source": [
        "from google.colab import drive\n",
        "drive.mount('/content/drive')"
      ],
      "execution_count": null,
      "outputs": []
    },
    {
      "cell_type": "code",
      "metadata": {
        "colab_type": "code",
        "id": "xypyS_ArMS3k",
        "colab": {}
      },
      "source": [
        "import torch\n",
        "%matplotlib inline\n",
        "import matplotlib.pyplot as plt\n",
        "import numpy as np\n",
        "import torch.nn as nn\n",
        "import torch.optim as optim\n",
        "import torch.nn.functional as F\n",
        "import cv2  \n",
        "import torchvision\n",
        "import torchvision.transforms as transforms\n",
        "import time\n",
        "transform = transforms.Compose(\n",
        "    [transforms.ToTensor(),\n",
        "     transforms.Normalize((0.5, 0.5, 0.5), (0.5, 0.5, 0.5))])"
      ],
      "execution_count": null,
      "outputs": []
    },
    {
      "cell_type": "code",
      "metadata": {
        "colab_type": "code",
        "id": "wrDZCOMlMS3g",
        "colab": {}
      },
      "source": [
        "file1 = open('/content/drive/My Drive/Dataset/Lane detection/full_CNN_train.p','rb')\n",
        "image_dataset = pickle.load(file1)\n",
        "image_dataset = torch.FloatTensor(image_dataset)/255.0\n",
        "torch.save(image_dataset,'/content/drive/My Drive/Models/Lane detection/imageset.pt')\n",
        "file2 = open('/content/drive/My Drive/Dataset/Lane detection/full_CNN_labels.p','rb')\n",
        "lable_dataset = pickle.load(file2)\n",
        "lable_dataset = torch.FloatTensor(lable_dataset)/255.0\n",
        "torch.save(lable_dataset,'/content/drive/My Drive/Models/Lane detection/outputset.pt')"
      ],
      "execution_count": null,
      "outputs": []
    },
    {
      "cell_type": "code",
      "metadata": {
        "colab_type": "code",
        "id": "eoss79hGMS3d",
        "colab": {}
      },
      "source": [
        "image_dataset = torch.load('/content/drive/My Drive/Models/Lane detection/imageset.pt')"
      ],
      "execution_count": null,
      "outputs": []
    },
    {
      "cell_type": "code",
      "metadata": {
        "colab_type": "code",
        "id": "rhfA5vS7MS3a",
        "colab": {}
      },
      "source": [
        "lable_dataset = torch.load('/content/drive/My Drive/Models/Lane detection/outputset.pt')"
      ],
      "execution_count": null,
      "outputs": []
    },
    {
      "cell_type": "code",
      "metadata": {
        "colab_type": "code",
        "id": "f5h--MEnMS3W",
        "colab": {}
      },
      "source": [
        "a = torch.zeros(lable_dataset.shape, dtype=torch.float32)\n",
        "output_dataset = torch.cat([a,lable_dataset,a],dim = 3)"
      ],
      "execution_count": null,
      "outputs": []
    },
    {
      "cell_type": "markdown",
      "metadata": {
        "id": "UDIJOe151hxF",
        "colab_type": "text"
      },
      "source": [
        ""
      ]
    },
    {
      "cell_type": "code",
      "metadata": {
        "colab_type": "code",
        "id": "E8wTTpB_MS3S",
        "colab": {
          "base_uri": "https://localhost:8080/",
          "height": 177
        },
        "outputId": "e52344f3-9b3a-46ad-fbab-32feac7f0f3c"
      },
      "source": [
        "plt.axis('off')\n",
        "plt.imshow(np.array(image_dataset[10075]))"
      ],
      "execution_count": null,
      "outputs": [
        {
          "output_type": "error",
          "ename": "NameError",
          "evalue": "ignored",
          "traceback": [
            "\u001b[0;31m---------------------------------------------------------------------------\u001b[0m",
            "\u001b[0;31mNameError\u001b[0m                                 Traceback (most recent call last)",
            "\u001b[0;32m<ipython-input-1-fdd159cd1212>\u001b[0m in \u001b[0;36m<module>\u001b[0;34m()\u001b[0m\n\u001b[0;32m----> 1\u001b[0;31m \u001b[0mplt\u001b[0m\u001b[0;34m.\u001b[0m\u001b[0maxis\u001b[0m\u001b[0;34m(\u001b[0m\u001b[0;34m'off'\u001b[0m\u001b[0;34m)\u001b[0m\u001b[0;34m\u001b[0m\u001b[0;34m\u001b[0m\u001b[0m\n\u001b[0m\u001b[1;32m      2\u001b[0m \u001b[0mplt\u001b[0m\u001b[0;34m.\u001b[0m\u001b[0mimshow\u001b[0m\u001b[0;34m(\u001b[0m\u001b[0mnp\u001b[0m\u001b[0;34m.\u001b[0m\u001b[0marray\u001b[0m\u001b[0;34m(\u001b[0m\u001b[0mimage_dataset\u001b[0m\u001b[0;34m[\u001b[0m\u001b[0;36m10075\u001b[0m\u001b[0;34m]\u001b[0m\u001b[0;34m)\u001b[0m\u001b[0;34m)\u001b[0m\u001b[0;34m\u001b[0m\u001b[0;34m\u001b[0m\u001b[0m\n",
            "\u001b[0;31mNameError\u001b[0m: name 'plt' is not defined"
          ]
        }
      ]
    },
    {
      "cell_type": "code",
      "metadata": {
        "colab_type": "code",
        "id": "H3adxBvzMS3O",
        "colab": {
          "base_uri": "https://localhost:8080/",
          "height": 235
        },
        "outputId": "1cf3ff9f-20ca-4319-f4a9-dbbec56a1d3f"
      },
      "source": [
        "plt.imshow(np.array(output_dataset[10075]))"
      ],
      "execution_count": null,
      "outputs": [
        {
          "output_type": "execute_result",
          "data": {
            "text/plain": [
              "<matplotlib.image.AxesImage at 0x7f590915d5c0>"
            ]
          },
          "metadata": {
            "tags": []
          },
          "execution_count": 8
        },
        {
          "output_type": "display_data",
          "data": {
            "image/png": "[encoded data removed]",
            "text/plain": [
              "<Figure size 432x288 with 1 Axes>"
            ]
          },
          "metadata": {
            "tags": [],
            "needs_background": "light"
          }
        }
      ]
    },
    {
      "cell_type": "code",
      "metadata": {
        "colab_type": "code",
        "id": "yghAOz_pMS3L",
        "colab": {
          "base_uri": "https://localhost:8080/",
          "height": 34
        },
        "outputId": "062f8133-55f5-4df9-ec62-4a8dbf154fef"
      },
      "source": [
        "image_dataset.shape"
      ],
      "execution_count": null,
      "outputs": [
        {
          "output_type": "execute_result",
          "data": {
            "text/plain": [
              "torch.Size([12764, 80, 160, 3])"
            ]
          },
          "metadata": {
            "tags": []
          },
          "execution_count": 9
        }
      ]
    },
    {
      "cell_type": "code",
      "metadata": {
        "colab_type": "code",
        "id": "Lqv5sscbMS3I",
        "colab": {
          "base_uri": "https://localhost:8080/",
          "height": 34
        },
        "outputId": "b22c555f-a379-4cc1-8547-d1ec748cebc4"
      },
      "source": [
        "lable_dataset.shape"
      ],
      "execution_count": null,
      "outputs": [
        {
          "output_type": "execute_result",
          "data": {
            "text/plain": [
              "torch.Size([12764, 80, 160, 1])"
            ]
          },
          "metadata": {
            "tags": []
          },
          "execution_count": 10
        }
      ]
    },
    {
      "cell_type": "code",
      "metadata": {
        "colab_type": "code",
        "id": "F--4_GzbMS3E",
        "colab": {
          "base_uri": "https://localhost:8080/",
          "height": 34
        },
        "outputId": "2af6b88b-8a91-45c1-97b5-833b3eca7869"
      },
      "source": [
        "output_dataset.shape"
      ],
      "execution_count": null,
      "outputs": [
        {
          "output_type": "execute_result",
          "data": {
            "text/plain": [
              "torch.Size([12764, 80, 160, 3])"
            ]
          },
          "metadata": {
            "tags": []
          },
          "execution_count": 11
        }
      ]
    },
    {
      "cell_type": "code",
      "metadata": {
        "colab_type": "code",
        "id": "iI39HM9rMS2-",
        "colab": {}
      },
      "source": [
        " class FCN32s(nn.Module):\n",
        "    def __init__(self):\n",
        "        super(FCN32s, self).__init__()\n",
        "        self.conv1 = nn.Conv2d(in_channels = 3, out_channels = 16, kernel_size = 3, stride = 1, padding = 1)\n",
        "        self.conv2 = nn.Conv2d(in_channels = 16, out_channels = 32, kernel_size = 3, stride = 1, padding = 1)\n",
        "        self.conv3 = nn.Conv2d(in_channels = 32, out_channels = 32, kernel_size = 3, stride = 1, padding = 1)\n",
        "        self.pool1 = nn.MaxPool2d(kernel_size = 2)\n",
        "        self.conv4 = nn.Conv2d(in_channels = 32, out_channels = 32, kernel_size = 3, stride = 1, padding = 1)\n",
        "        self.conv5 = nn.Conv2d(in_channels = 32, out_channels = 128, kernel_size = 3, stride = 1, padding = 1)\n",
        "        self.conv6 = nn.Conv2d(in_channels = 128, out_channels = 128, kernel_size = 3, stride = 1, padding = 1)\n",
        "        self.pool2 = nn.MaxPool2d(kernel_size = 2)\n",
        "        self.conv7 = nn.Conv2d(in_channels = 128, out_channels = 128, kernel_size = 3, stride = 1, padding = 1)\n",
        "        self.conv8 = nn.Conv2d(in_channels = 128, out_channels = 256, kernel_size = 3, stride = 1, padding = 1)\n",
        "        self.conv9 = nn.Conv2d(in_channels = 256, out_channels = 256, kernel_size = 3, stride = 1, padding = 1)\n",
        "        self.pool3 = nn.MaxPool2d(kernel_size = 2)\n",
        "        self.conv10 = nn.Conv2d(in_channels = 256, out_channels = 256, kernel_size = 3, stride = 1, padding = 1)\n",
        "        self.conv11 = nn.Conv2d(in_channels = 256, out_channels = 1024, kernel_size = 3, stride = 1, padding = 1)\n",
        "        self.conv12 = nn.Conv2d(in_channels = 1024, out_channels = 1024, kernel_size = 3, stride = 1, padding = 1)\n",
        "        self.pool4 = nn.MaxPool2d(kernel_size = 2)\n",
        "        self.conv13 = nn.Conv2d(in_channels = 1024, out_channels = 1024, kernel_size = 3, stride = 1, padding = 1)\n",
        "        self.conv14 = nn.Conv2d(in_channels = 1024, out_channels = 4096, kernel_size = 3, stride = 1, padding = 1)\n",
        "        self.conv15 = nn.Conv2d(in_channels = 4096, out_channels = 4096, kernel_size = 3, stride = 1, padding = 1)\n",
        "        self.cotr1 = nn.ConvTranspose2d(in_channels = 4096, out_channels = 4096, kernel_size = 3, stride = 1, padding = 1)\n",
        "        self.cotr2 = nn.ConvTranspose2d(in_channels = 4096, out_channels = 1024, kernel_size = 3, stride = 1, padding = 1)\n",
        "        self.cotr3 = nn.ConvTranspose2d(in_channels = 1024, out_channels = 1024, kernel_size = 3, stride = 1, padding = 1)\n",
        "        self.upsl1 = nn.UpsamplingNearest2d(scale_factor = 2)\n",
        "        self.cotr4 = nn.ConvTranspose2d(in_channels = 1024, out_channels = 1024, kernel_size = 3, stride = 1, padding = 1)\n",
        "        self.cotr5 = nn.ConvTranspose2d(in_channels = 1024, out_channels = 256, kernel_size = 3, stride = 1, padding = 1)\n",
        "        self.cotr6 = nn.ConvTranspose2d(in_channels = 256, out_channels = 256, kernel_size = 3, stride = 1, padding = 1)\n",
        "        self.upsl2 = nn.UpsamplingNearest2d(scale_factor = 2)\n",
        "        self.cotr7 = nn.ConvTranspose2d(in_channels = 256, out_channels = 256, kernel_size = 3, stride = 1, padding = 1)\n",
        "        self.cotr8 = nn.ConvTranspose2d(in_channels = 256, out_channels = 128, kernel_size = 3, stride = 1, padding = 1)\n",
        "        self.cotr9 = nn.ConvTranspose2d(in_channels = 128, out_channels = 128, kernel_size = 3, stride = 1, padding = 1)\n",
        "        self.upsl3 = nn.UpsamplingNearest2d(scale_factor = 2)\n",
        "        self.cotr10 = nn.ConvTranspose2d(in_channels = 128, out_channels = 128, kernel_size = 3, stride = 1, padding = 1)\n",
        "        self.cotr11 = nn.ConvTranspose2d(in_channels = 128, out_channels = 32, kernel_size = 3, stride = 1, padding = 1)\n",
        "        self.cotr12 = nn.ConvTranspose2d(in_channels = 32, out_channels = 32, kernel_size = 3, stride = 1, padding = 1)\n",
        "        self.upsl4 = nn.UpsamplingNearest2d(scale_factor = 2)\n",
        "        self.cotr13 = nn.ConvTranspose2d(in_channels = 32, out_channels = 32, kernel_size = 3, stride = 1, padding = 1)\n",
        "        self.cotr14 = nn.ConvTranspose2d(in_channels = 32, out_channels = 16, kernel_size = 3, stride = 1, padding = 1)\n",
        "        self.cotr15 = nn.ConvTranspose2d(in_channels = 16, out_channels = 1, kernel_size = 3, stride = 1, padding = 1)\n",
        "                \n",
        "    def forward(self, x):\n",
        "        x = x.type(torch.FloatTensor)\n",
        "        x = self.conv2(self.conv1(x))\n",
        "        x = self.pool1(self.conv3(x) + x)\n",
        "        x = self.conv5(self.conv4(x) + x)\n",
        "        x = self.pool2(self.conv6(x) + x)\n",
        "        x = self.conv8(self.conv7(x) + x)\n",
        "        x = self.pool3(self.conv9(x) + x)\n",
        "        x = self.conv11(self.conv10(x) + x)\n",
        "        x = self.pool4(self.conv12(x) + x)\n",
        "        x = self.conv14(self.conv13(x) + x)\n",
        "        x = self.conv15(x) + x\n",
        "        x = self.cotr2(self.cotr1(x) + x)\n",
        "        x = self.upsl1(self.cotr3(x) + x)\n",
        "        x = self.cotr5(self.cotr4(x) + x)\n",
        "        x = self.upsl2(self.cotr6(x) + x)\n",
        "        x = self.cotr8(self.cotr7(x) + x)\n",
        "        x = self.upsl3(self.cotr9(x) + x)\n",
        "        x = self.cotr11(self.cotr10(x) + x)\n",
        "        x = self.upsl4(self.cotr12(x) + x)\n",
        "        x = self.cotr14(self.cotr13(x) + x)\n",
        "        x = self.cotr15(x) + x\n",
        "        x = x - x.min()\n",
        "        x = x / x.max()\n",
        "        return x"
      ],
      "execution_count": null,
      "outputs": []
    },
    {
      "cell_type": "code",
      "metadata": {
        "colab_type": "code",
        "id": "Sbz2LQbrMS25",
        "colab": {}
      },
      "source": [
        "model = FCN32s()\n",
        "batch_size = 1\n",
        "lr = 0.0001\n",
        "Epoch = 5\n",
        "optimizer = optim.Adam(model.parameters(), lr=lr)\n",
        "criterion = nn.MSELoss()"
      ],
      "execution_count": null,
      "outputs": []
    },
    {
      "cell_type": "code",
      "metadata": {
        "colab_type": "code",
        "id": "h1PyGHAkMS20",
        "colab": {}
      },
      "source": [
        "trainset = []\n",
        "testset = []\n",
        "for i in range(int(0.8*len(image_dataset))):\n",
        "    trainset.append([image_dataset[i],lable_dataset[i]])\n",
        "for i in range(int(0.8*len(image_dataset)),len(image_dataset)):\n",
        "    testset.append([image_dataset[i],lable_dataset[i]])\n",
        "trainloader = torch.utils.data.DataLoader(trainset, batch_size=batch_size, shuffle=True, num_workers=2)\n",
        "testloader = torch.utils.data.DataLoader(testset, batch_size=batch_size, shuffle=True, num_workers=2)"
      ],
      "execution_count": null,
      "outputs": []
    },
    {
      "cell_type": "code",
      "metadata": {
        "colab_type": "code",
        "id": "C_qx5TsaMS2u",
        "colab": {
          "base_uri": "https://localhost:8080/",
          "height": 697
        },
        "outputId": "60631562-4e44-424b-cb09-9a5e0aacfcc3"
      },
      "source": [
        "PATH = '/content/drive/My Drive/Models/Lane detection/Lanemodel001.pt'\n",
        "model = FCN32s()\n",
        "model.load_state_dict(torch.load(PATH))\n",
        "model"
      ],
      "execution_count": null,
      "outputs": [
        {
          "output_type": "execute_result",
          "data": {
            "text/plain": [
              "FCN32s(\n",
              "  (conv1): Conv2d(3, 16, kernel_size=(3, 3), stride=(1, 1), padding=(1, 1))\n",
              "  (conv2): Conv2d(16, 32, kernel_size=(3, 3), stride=(1, 1), padding=(1, 1))\n",
              "  (conv3): Conv2d(32, 32, kernel_size=(3, 3), stride=(1, 1), padding=(1, 1))\n",
              "  (pool1): MaxPool2d(kernel_size=2, stride=2, padding=0, dilation=1, ceil_mode=False)\n",
              "  (conv4): Conv2d(32, 32, kernel_size=(3, 3), stride=(1, 1), padding=(1, 1))\n",
              "  (conv5): Conv2d(32, 128, kernel_size=(3, 3), stride=(1, 1), padding=(1, 1))\n",
              "  (conv6): Conv2d(128, 128, kernel_size=(3, 3), stride=(1, 1), padding=(1, 1))\n",
              "  (pool2): MaxPool2d(kernel_size=2, stride=2, padding=0, dilation=1, ceil_mode=False)\n",
              "  (conv7): Conv2d(128, 128, kernel_size=(3, 3), stride=(1, 1), padding=(1, 1))\n",
              "  (conv8): Conv2d(128, 256, kernel_size=(3, 3), stride=(1, 1), padding=(1, 1))\n",
              "  (conv9): Conv2d(256, 256, kernel_size=(3, 3), stride=(1, 1), padding=(1, 1))\n",
              "  (pool3): MaxPool2d(kernel_size=2, stride=2, padding=0, dilation=1, ceil_mode=False)\n",
              "  (conv10): Conv2d(256, 256, kernel_size=(3, 3), stride=(1, 1), padding=(1, 1))\n",
              "  (conv11): Conv2d(256, 1024, kernel_size=(3, 3), stride=(1, 1), padding=(1, 1))\n",
              "  (conv12): Conv2d(1024, 1024, kernel_size=(3, 3), stride=(1, 1), padding=(1, 1))\n",
              "  (pool4): MaxPool2d(kernel_size=2, stride=2, padding=0, dilation=1, ceil_mode=False)\n",
              "  (conv13): Conv2d(1024, 1024, kernel_size=(3, 3), stride=(1, 1), padding=(1, 1))\n",
              "  (conv14): Conv2d(1024, 4096, kernel_size=(3, 3), stride=(1, 1), padding=(1, 1))\n",
              "  (conv15): Conv2d(4096, 4096, kernel_size=(3, 3), stride=(1, 1), padding=(1, 1))\n",
              "  (cotr1): ConvTranspose2d(4096, 4096, kernel_size=(3, 3), stride=(1, 1), padding=(1, 1))\n",
              "  (cotr2): ConvTranspose2d(4096, 1024, kernel_size=(3, 3), stride=(1, 1), padding=(1, 1))\n",
              "  (cotr3): ConvTranspose2d(1024, 1024, kernel_size=(3, 3), stride=(1, 1), padding=(1, 1))\n",
              "  (upsl1): UpsamplingNearest2d(scale_factor=2.0, mode=nearest)\n",
              "  (cotr4): ConvTranspose2d(1024, 1024, kernel_size=(3, 3), stride=(1, 1), padding=(1, 1))\n",
              "  (cotr5): ConvTranspose2d(1024, 256, kernel_size=(3, 3), stride=(1, 1), padding=(1, 1))\n",
              "  (cotr6): ConvTranspose2d(256, 256, kernel_size=(3, 3), stride=(1, 1), padding=(1, 1))\n",
              "  (upsl2): UpsamplingNearest2d(scale_factor=2.0, mode=nearest)\n",
              "  (cotr7): ConvTranspose2d(256, 256, kernel_size=(3, 3), stride=(1, 1), padding=(1, 1))\n",
              "  (cotr8): ConvTranspose2d(256, 128, kernel_size=(3, 3), stride=(1, 1), padding=(1, 1))\n",
              "  (cotr9): ConvTranspose2d(128, 128, kernel_size=(3, 3), stride=(1, 1), padding=(1, 1))\n",
              "  (upsl3): UpsamplingNearest2d(scale_factor=2.0, mode=nearest)\n",
              "  (cotr10): ConvTranspose2d(128, 128, kernel_size=(3, 3), stride=(1, 1), padding=(1, 1))\n",
              "  (cotr11): ConvTranspose2d(128, 32, kernel_size=(3, 3), stride=(1, 1), padding=(1, 1))\n",
              "  (cotr12): ConvTranspose2d(32, 32, kernel_size=(3, 3), stride=(1, 1), padding=(1, 1))\n",
              "  (upsl4): UpsamplingNearest2d(scale_factor=2.0, mode=nearest)\n",
              "  (cotr13): ConvTranspose2d(32, 32, kernel_size=(3, 3), stride=(1, 1), padding=(1, 1))\n",
              "  (cotr14): ConvTranspose2d(32, 16, kernel_size=(3, 3), stride=(1, 1), padding=(1, 1))\n",
              "  (cotr15): ConvTranspose2d(16, 1, kernel_size=(3, 3), stride=(1, 1), padding=(1, 1))\n",
              ")"
            ]
          },
          "metadata": {
            "tags": []
          },
          "execution_count": 15
        }
      ]
    },
    {
      "cell_type": "code",
      "metadata": {
        "colab_type": "code",
        "id": "wMJcwvy4MS2p",
        "colab": {}
      },
      "source": [
        "PATH = '/content/drive/My Drive/Models/Lane detection/Lanemodel001.pt'\n",
        "for epoch in range(Epoch):\n",
        "    running_loss = 0.0\n",
        "    num = 0\n",
        "    for i, data in enumerate(trainloader, 0):\n",
        "        optimizer.zero_grad()\n",
        "        inputs, lables = data\n",
        "        size = inputs.shape\n",
        "        inputs = inputs.resize_((size[0],size[3],size[1],size[2]))\n",
        "        lables = lables.resize_((size[0],1,size[1],size[2]))\n",
        "        inputs = inputs.type(torch.FloatTensor)\n",
        "        lables = lables.type(torch.FloatTensor)\n",
        "        outputs = model(inputs)\n",
        "        outputs = outputs.type(torch.FloatTensor)\n",
        "        loss = criterion(outputs, lables)\n",
        "        loss.backward()\n",
        "        optimizer.step()\n",
        "        running_loss += loss.item()\n",
        "        if num%200 == 199:\n",
        "            print(\"Epoch %d :: Loss : %.3f\" %(epoch+1,running_loss / num))\n",
        "            torch.save(model.state_dict(), PATH)\n",
        "            running_loss = 0.0\n",
        "            num = 0\n",
        "        num += 1\n",
        "print('Finished Training')"
      ],
      "execution_count": null,
      "outputs": []
    },
    {
      "cell_type": "code",
      "metadata": {
        "colab_type": "code",
        "id": "HFBnvTcNMS2h",
        "colab": {}
      },
      "source": [
        "PATH = '/Lanemodel001.pt'\n",
        "torch.save(model.state_dict(), PATH)"
      ],
      "execution_count": null,
      "outputs": []
    },
    {
      "cell_type": "code",
      "metadata": {
        "colab_type": "code",
        "id": "ccmojQ-8MS2Y",
        "colab": {}
      },
      "source": [
        "running_loss = 0.0\n",
        "num = 0\n",
        "for i, data in enumerate(testloader, 0):\n",
        "    inputs, lables = data\n",
        "    size = inputs.shape\n",
        "    inputs = inputs.resize_((size[0],size[3],size[1],size[2]))\n",
        "    lables = lables.resize_((size[0],1,size[1],size[2]))\n",
        "    outputs = model(inputs)\n",
        "    loss = criterion(outputs, lables)\n",
        "    running_loss += loss.item()\n",
        "    num += 1\n",
        "print('Test loss: %.3f' %(running_loss / num))"
      ],
      "execution_count": null,
      "outputs": []
    },
    {
      "cell_type": "code",
      "metadata": {
        "id": "KkrrbnPG0z4U",
        "colab_type": "code",
        "colab": {}
      },
      "source": [
        "image = inputs\n",
        "image = image.resize_(80,160,3)\n",
        "plt.imshow(np.array(image))"
      ],
      "execution_count": null,
      "outputs": []
    },
    {
      "cell_type": "code",
      "metadata": {
        "colab_type": "code",
        "id": "Mt03oJB8MS2O",
        "colab": {}
      },
      "source": [
        "lables = lables.resize_(80,160,1)\n",
        "a = torch.zeros(lables.shape, dtype = torch.float32)\n",
        "truth = torch.cat([a,lables,a], dim = 2)\n",
        "truth = truth.squeeze()\n",
        "plt.imshow(np.array(truth))"
      ],
      "execution_count": null,
      "outputs": []
    },
    {
      "cell_type": "code",
      "metadata": {
        "colab_type": "code",
        "id": "7SMPpoBzMS1-",
        "colab": {}
      },
      "source": [
        "output = (model(inputs).data)\n",
        "outputs = torch.tensor(np.array(output))\n",
        "outputs = outputs.resize_(80,160,1)\n",
        "a = torch.zeros(outputs.shape, dtype = torch.float32)\n",
        "outputs = torch.cat([a,outputs,a], dim = 2)\n",
        "outputs = outputs.squeeze()\n",
        "print(outputs.max())\n",
        "print(outputs.min())\n",
        "plt.imshow(np.array(outputs))"
      ],
      "execution_count": null,
      "outputs": []
    },
    {
      "cell_type": "code",
      "metadata": {
        "id": "Wr7L5vvVQ4A5",
        "colab_type": "code",
        "colab": {}
      },
      "source": [
        "size = (80,160)\n",
        "out = cv2.VideoWriter('project.avi',cv2.VideoWriter_fourcc(*'DIVX'), 15, size)"
      ],
      "execution_count": null,
      "outputs": []
    },
    {
      "cell_type": "code",
      "metadata": {
        "colab_type": "code",
        "id": "olfDG_ZTMS09",
        "colab": {
          "base_uri": "https://localhost:8080/",
          "height": 235
        },
        "outputId": "9d7b5dc8-c1cc-44c7-80d2-32f657b5ce8f"
      },
      "source": [
        "path = \"/content/drive/My Drive/Videos/Lane/drive 1.mp4\"\n",
        "cap = cv2.VideoCapture(path) \n",
        "count = 0\n",
        "success = 1\n",
        "while(1): \n",
        "    ret, frame = cap.read()\n",
        "    if ret == True:\n",
        "      if count % 1000 == 0:\n",
        "        img_array = torch.tensor(frame)\n",
        "        img_array = img_array.resize_(1, 3, 80, 160)\n",
        "        start = time.time()\n",
        "        lable_arr = model(img_array).data\n",
        "        end = time.time()\n",
        "        output_arr = torch.tensor(np.array(lable_arr))\n",
        "        output_arr = output_arr.resize_(80, 160, 1)\n",
        "        a = torch.zeros(output_arr.shape, dtype = torch.float32)\n",
        "        output_arr = torch.cat([a,output_arr,a], dim = 2)\n",
        "        output_arr = output_arr.squeeze()\n",
        "        dim = (160,80)\n",
        "        resized = cv2.resize(frame, dim, interpolation = cv2.INTER_AREA)\n",
        "        resized = resized/255\n",
        "        plt.imshow(0.5*(resized+np.array(output_arr)))\n",
        "        filename = \"/content/drive/My Drive/Images/Lanes detected/Image \"+str(count)+\".jpg\"\n",
        "        plt.savefig(filename)\n",
        "      count += 1  \n",
        "    else:\n",
        "      break\n",
        "print(count)"
      ],
      "execution_count": null,
      "outputs": [
        {
          "output_type": "stream",
          "text": [
            "19520\n"
          ],
          "name": "stdout"
        },
        {
          "output_type": "display_data",
          "data": {
            "image/png": "[encoded data removed]",
            "text/plain": [
              "<Figure size 432x288 with 1 Axes>"
            ]
          },
          "metadata": {
            "tags": [],
            "needs_background": "light"
          }
        }
      ]
    }
  ]
}