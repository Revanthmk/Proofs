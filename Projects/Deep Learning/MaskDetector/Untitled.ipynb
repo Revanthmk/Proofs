{
 "cells": [
  {
   "cell_type": "code",
   "execution_count": 7,
   "metadata": {},
   "outputs": [],
   "source": [
    "import numpy as np\n",
    "import matplotlib.pyplot as plt\n",
    "%matplotlib inline\n",
    "import pandas as pd\n",
    "import glob\n",
    "import cv2\n",
    "\n",
    "from tensorflow.python.keras.utils import np_utils\n",
    "from tensorflow.keras.preprocessing.image import ImageDataGenerator\n",
    "from tensorflow.keras.callbacks import ModelCheckpoint, TensorBoard\n",
    "from tensorflow import Tensor\n",
    "from tensorflow.keras.layers import Input, Conv2D, ReLU, BatchNormalization,\\\n",
    "                                    Add, AveragePooling2D, Flatten, Dense\n",
    "from tensorflow.keras.models import Model\n",
    "from sklearn.utils import shuffle"
   ]
  },
  {
   "cell_type": "code",
   "execution_count": 8,
   "metadata": {},
   "outputs": [],
   "source": [
    "activity_map = {'c0': 'Mask', \n",
    "                'c1': 'No_mask'}"
   ]
  },
  {
   "cell_type": "code",
   "execution_count": 9,
   "metadata": {},
   "outputs": [],
   "source": [
    "train_mask_path = glob.glob('data_split/train/with_mask/*.jpg')\n",
    "train_without_mask_path = glob.glob('data_split/train/without_mask/*.jpg')\n",
    "test_mask_path = glob.glob('data_split/test/with_mask/*.jpg')\n",
    "test_without_mask_path = glob.glob('data_split/test/without_mask/*.jpg')\n",
    "val_mask_path = glob.glob('data_split/val/with_mask/*.jpg')\n",
    "val_without_mask_path = glob.glob('data_split/val/without_mask/*.jpg')"
   ]
  },
  {
   "cell_type": "code",
   "execution_count": 10,
   "metadata": {},
   "outputs": [
    {
     "name": "stdout",
     "output_type": "stream",
     "text": [
      "654\n",
      "652\n",
      "97\n",
      "97\n",
      "71\n",
      "71\n"
     ]
    }
   ],
   "source": [
    "print(len(train_mask_path))\n",
    "print(len(train_without_mask_path))\n",
    "print(len(test_mask_path))\n",
    "print(len(test_without_mask_path))\n",
    "print(len(val_mask_path))\n",
    "print(len(val_without_mask_path))"
   ]
  },
  {
   "cell_type": "code",
   "execution_count": 11,
   "metadata": {},
   "outputs": [],
   "source": [
    "X_train = []\n",
    "X_test = []\n",
    "X_val = []\n",
    "y_train = []\n",
    "y_test = []\n",
    "y_val = []"
   ]
  },
  {
   "cell_type": "code",
   "execution_count": 12,
   "metadata": {},
   "outputs": [],
   "source": [
    "for imgs in train_mask_path:\n",
    "    img = cv2.imread(imgs, cv2.IMREAD_COLOR)\n",
    "    img = cv2.resize(img, (32, 32))\n",
    "    img = cv2.normalize(img, None, alpha=0, beta=1, norm_type=cv2.NORM_MINMAX, dtype=cv2.CV_32F)\n",
    "    X_train.append(img)\n",
    "for imgs in train_without_mask_path:\n",
    "    img = cv2.imread(imgs, cv2.IMREAD_COLOR)\n",
    "    img = cv2.resize(img, (32, 32))\n",
    "    img = cv2.normalize(img, None, alpha=0, beta=1, norm_type=cv2.NORM_MINMAX, dtype=cv2.CV_32F)\n",
    "    X_train.append(img)\n",
    "\n",
    "for imgs in test_mask_path:\n",
    "    img = cv2.imread(imgs, cv2.IMREAD_COLOR)\n",
    "    img = cv2.resize(img, (32, 32))\n",
    "    img = cv2.normalize(img, None, alpha=0, beta=1, norm_type=cv2.NORM_MINMAX, dtype=cv2.CV_32F)\n",
    "    X_test.append(img)\n",
    "for imgs in test_without_mask_path:\n",
    "    img = cv2.imread(imgs, cv2.IMREAD_COLOR)\n",
    "    img = cv2.resize(img, (32, 32))\n",
    "    img = cv2.normalize(img, None, alpha=0, beta=1, norm_type=cv2.NORM_MINMAX, dtype=cv2.CV_32F)\n",
    "    X_test.append(img)\n",
    "    \n",
    "for imgs in val_mask_path:\n",
    "    img = cv2.imread(imgs, cv2.IMREAD_COLOR)\n",
    "    img = cv2.resize(img, (32, 32))\n",
    "    img = cv2.normalize(img, None, alpha=0, beta=1, norm_type=cv2.NORM_MINMAX, dtype=cv2.CV_32F)\n",
    "    X_val.append(img)\n",
    "for imgs in val_without_mask_path:\n",
    "    img = cv2.imread(imgs, cv2.IMREAD_COLOR)\n",
    "    img = cv2.resize(img, (32, 32))\n",
    "    img = cv2.normalize(img, None, alpha=0, beta=1, norm_type=cv2.NORM_MINMAX, dtype=cv2.CV_32F)\n",
    "    X_val.append(img)"
   ]
  },
  {
   "cell_type": "code",
   "execution_count": 13,
   "metadata": {},
   "outputs": [],
   "source": [
    "for i in range(len(train_mask_path)):\n",
    "    y_train.append(1)\n",
    "for i in range(len(train_without_mask_path)):\n",
    "    y_train.append(0)\n",
    "    \n",
    "for i in range(len(test_mask_path)):\n",
    "    y_test.append(1)\n",
    "for i in range(len(test_without_mask_path)):\n",
    "    y_test.append(0)\n",
    "\n",
    "for i in range(len(val_mask_path)):\n",
    "    y_val.append(1)\n",
    "for i in range(len(val_without_mask_path)):\n",
    "    y_val.append(0)"
   ]
  },
  {
   "cell_type": "code",
   "execution_count": 14,
   "metadata": {},
   "outputs": [
    {
     "name": "stdout",
     "output_type": "stream",
     "text": [
      "1306\n",
      "194\n",
      "142\n",
      "1306\n",
      "194\n",
      "142\n"
     ]
    }
   ],
   "source": [
    "print(len(X_train))\n",
    "print(len(X_test))\n",
    "print(len(X_val))\n",
    "print(len(y_train))\n",
    "print(len(y_test))\n",
    "print(len(y_val))"
   ]
  },
  {
   "cell_type": "code",
   "execution_count": 18,
   "metadata": {},
   "outputs": [],
   "source": [
    "X_train, y_train = shuffle(X_train, y_train, random_state=1)\n",
    "X_test, y_test = shuffle(X_test, y_test, random_state=4)\n",
    "X_val, y_val = shuffle(X_val, y_val, random_state=12)"
   ]
  },
  {
   "cell_type": "code",
   "execution_count": 24,
   "metadata": {},
   "outputs": [
    {
     "name": "stderr",
     "output_type": "stream",
     "text": [
      "c:\\users\\revan\\appdata\\local\\programs\\python\\python38\\lib\\site-packages\\keras_preprocessing\\image\\image_data_generator.py:342: UserWarning: This ImageDataGenerator specifies `zca_whitening` which overrides setting of`featurewise_std_normalization`.\n",
      "  warnings.warn('This ImageDataGenerator specifies '\n"
     ]
    }
   ],
   "source": [
    "datagen = ImageDataGenerator(featurewise_center=True, \n",
    "                             featurewise_std_normalization=True, \n",
    "                             zca_whitening=True,\n",
    "                             rotation_range=90,\n",
    "                             width_shift_range=0.2,\n",
    "                             height_shift_range=0.2,\n",
    "                             horizontal_flip=True,\n",
    "                             vertical_flip=True,\n",
    "                             )"
   ]
  },
  {
   "cell_type": "code",
   "execution_count": 25,
   "metadata": {},
   "outputs": [
    {
     "data": {
      "text/plain": [
       "\"np.save('X_train', X_train)\\nnp.save('X_test', X_test)\\nnp.save('X_val', X_val)\\nnp.save('y_train', y_train)\\nnp.save('y_test', y_test)\\nnp.save('y_val', y_val)\""
      ]
     },
     "execution_count": 25,
     "metadata": {},
     "output_type": "execute_result"
    }
   ],
   "source": [
    "\"\"\"np.save('X_train', X_train)\n",
    "np.save('X_test', X_test)\n",
    "np.save('X_val', X_val)\n",
    "np.save('y_train', y_train)\n",
    "np.save('y_test', y_test)\n",
    "np.save('y_val', y_val)\"\"\""
   ]
  },
  {
   "cell_type": "code",
   "execution_count": 26,
   "metadata": {},
   "outputs": [],
   "source": [
    "y_train = np_utils.to_categorical(y_train, 2)\n",
    "y_test = np_utils.to_categorical(y_test, 2)\n",
    "y_val = np_utils.to_categorical(y_val, 2)"
   ]
  },
  {
   "cell_type": "code",
   "execution_count": 27,
   "metadata": {},
   "outputs": [],
   "source": [
    "X_train = np.array(X_train, dtype=np.uint8).reshape(-1, 32, 32, 3)\n",
    "X_test = np.array(X_test, dtype=np.uint8).reshape(-1, 32, 32, 3)"
   ]
  },
  {
   "cell_type": "markdown",
   "metadata": {},
   "source": [
    "# RESNET "
   ]
  },
  {
   "cell_type": "code",
   "execution_count": 28,
   "metadata": {},
   "outputs": [],
   "source": [
    "def relu_bn(inputs: Tensor) -> Tensor:\n",
    "    relu = ReLU()(inputs)\n",
    "    bn = BatchNormalization()(relu)\n",
    "    return bn\n",
    "\n",
    "def residual_block(x: Tensor, downsample: bool, filters: int, kernel_size: int = 3) -> Tensor:\n",
    "    y = Conv2D(kernel_size=kernel_size,\n",
    "               strides= (1 if not downsample else 2),\n",
    "               filters=filters,\n",
    "               padding=\"same\")(x)\n",
    "    y = relu_bn(y)\n",
    "    y = Conv2D(kernel_size=kernel_size,\n",
    "               strides=1,\n",
    "               filters=filters,\n",
    "               padding=\"same\")(y)\n",
    "\n",
    "    if downsample:\n",
    "        x = Conv2D(kernel_size=1,\n",
    "                   strides=2,\n",
    "                   filters=filters,\n",
    "                   padding=\"same\")(x)\n",
    "    out = Add()([x, y])\n",
    "    out = relu_bn(out)\n",
    "    return out\n",
    "\n",
    "def create_res_net():\n",
    "    \n",
    "    inputs = Input(shape=(32, 32, 3))\n",
    "    num_filters = 64\n",
    "    \n",
    "    t = BatchNormalization()(inputs)\n",
    "    t = Conv2D(kernel_size=3,\n",
    "               strides=1,\n",
    "               filters=num_filters,\n",
    "               padding=\"same\")(t)\n",
    "    t = relu_bn(t)\n",
    "    \n",
    "    num_blocks_list = [2, 5, 2]\n",
    "    for i in range(len(num_blocks_list)):\n",
    "        num_blocks = num_blocks_list[i]\n",
    "        for j in range(num_blocks):\n",
    "            t = residual_block(t, downsample=(j==0 and i!=0), filters=num_filters)\n",
    "        num_filters *= 2\n",
    "    \n",
    "    t = AveragePooling2D(4)(t)\n",
    "    t = Flatten()(t)\n",
    "    outputs = Dense(2, activation='softmax')(t)\n",
    "    \n",
    "    model = Model(inputs, outputs)\n",
    "\n",
    "    model.compile(\n",
    "        optimizer='adam',\n",
    "        loss='categorical_crossentropy',\n",
    "        metrics=['accuracy']\n",
    "    )\n",
    "\n",
    "    return model"
   ]
  },
  {
   "cell_type": "code",
   "execution_count": 29,
   "metadata": {},
   "outputs": [
    {
     "name": "stderr",
     "output_type": "stream",
     "text": [
      "c:\\users\\revan\\appdata\\local\\programs\\python\\python38\\lib\\site-packages\\keras_preprocessing\\image\\image_data_generator.py:720: UserWarning: This ImageDataGenerator specifies `featurewise_center`, but it hasn't been fit on any training data. Fit it first by calling `.fit(numpy_data)`.\n",
      "  warnings.warn('This ImageDataGenerator specifies '\n",
      "c:\\users\\revan\\appdata\\local\\programs\\python\\python38\\lib\\site-packages\\keras_preprocessing\\image\\image_data_generator.py:739: UserWarning: This ImageDataGenerator specifies `zca_whitening`, but it hasn't been fit on any training data. Fit it first by calling `.fit(numpy_data)`.\n",
      "  warnings.warn('This ImageDataGenerator specifies '\n"
     ]
    },
    {
     "name": "stdout",
     "output_type": "stream",
     "text": [
      "Epoch 1/20\n",
      "41/41 [==============================] - 5s 123ms/step - loss: 0.6228 - accuracy: 0.7833 - val_loss: 0.7215 - val_accuracy: 0.6546\n",
      "Epoch 2/20\n",
      "41/41 [==============================] - 3s 72ms/step - loss: 0.3245 - accuracy: 0.8637 - val_loss: 3.8313 - val_accuracy: 0.5052\n",
      "Epoch 3/20\n",
      "41/41 [==============================] - 3s 72ms/step - loss: 0.3004 - accuracy: 0.8698 - val_loss: 1.0304 - val_accuracy: 0.5773\n",
      "Epoch 4/20\n",
      "41/41 [==============================] - 3s 72ms/step - loss: 0.2962 - accuracy: 0.8721 - val_loss: 0.3162 - val_accuracy: 0.7216\n",
      "Epoch 5/20\n",
      "41/41 [==============================] - 3s 72ms/step - loss: 0.3155 - accuracy: 0.8614 - val_loss: 0.1424 - val_accuracy: 0.9536\n",
      "Epoch 6/20\n",
      "41/41 [==============================] - 3s 72ms/step - loss: 0.2920 - accuracy: 0.8767 - val_loss: 0.3369 - val_accuracy: 0.9381\n",
      "Epoch 7/20\n",
      "41/41 [==============================] - 3s 72ms/step - loss: 0.3044 - accuracy: 0.8721 - val_loss: 0.1877 - val_accuracy: 0.9433\n",
      "Epoch 8/20\n",
      "41/41 [==============================] - 3s 81ms/step - loss: 0.2868 - accuracy: 0.8752 - val_loss: 0.2576 - val_accuracy: 0.9485\n",
      "Epoch 9/20\n",
      "41/41 [==============================] - 3s 76ms/step - loss: 0.2786 - accuracy: 0.8737 - val_loss: 0.3806 - val_accuracy: 0.9485\n",
      "Epoch 10/20\n",
      "41/41 [==============================] - 3s 78ms/step - loss: 0.2947 - accuracy: 0.8652 - val_loss: 0.3557 - val_accuracy: 0.9381\n",
      "Epoch 11/20\n",
      "41/41 [==============================] - 3s 74ms/step - loss: 0.3099 - accuracy: 0.8606 - val_loss: 0.2110 - val_accuracy: 0.9433\n",
      "Epoch 12/20\n",
      "41/41 [==============================] - 3s 75ms/step - loss: 0.3020 - accuracy: 0.8637 - val_loss: 0.3860 - val_accuracy: 0.9433\n",
      "Epoch 13/20\n",
      "41/41 [==============================] - 3s 76ms/step - loss: 0.3042 - accuracy: 0.8668 - val_loss: 0.2118 - val_accuracy: 0.9433\n",
      "Epoch 14/20\n",
      "41/41 [==============================] - 3s 76ms/step - loss: 0.3044 - accuracy: 0.8668 - val_loss: 0.1747 - val_accuracy: 0.9536\n",
      "Epoch 15/20\n",
      "41/41 [==============================] - 3s 77ms/step - loss: 0.3005 - accuracy: 0.8645 - val_loss: 0.3219 - val_accuracy: 0.7320\n",
      "Epoch 16/20\n",
      "41/41 [==============================] - 3s 79ms/step - loss: 0.2807 - accuracy: 0.8775 - val_loss: 0.5013 - val_accuracy: 0.6959\n",
      "Epoch 17/20\n",
      "41/41 [==============================] - 3s 79ms/step - loss: 0.2957 - accuracy: 0.8660 - val_loss: 0.2476 - val_accuracy: 0.8969\n",
      "Epoch 18/20\n",
      "41/41 [==============================] - 3s 80ms/step - loss: 0.2886 - accuracy: 0.8737 - val_loss: 0.1390 - val_accuracy: 0.9536\n",
      "Epoch 19/20\n",
      "41/41 [==============================] - 3s 80ms/step - loss: 0.2889 - accuracy: 0.8583 - val_loss: 0.2083 - val_accuracy: 0.9021\n",
      "Epoch 20/20\n",
      "41/41 [==============================] - 3s 81ms/step - loss: 0.2808 - accuracy: 0.8698 - val_loss: 0.2979 - val_accuracy: 0.7577\n"
     ]
    }
   ],
   "source": [
    "model = create_res_net()\n",
    "\n",
    "history = model.fit(datagen.flow(X_train, y_train, batch_size=32),\n",
    "    epochs=20,\n",
    "    verbose=1,\n",
    "    validation_data=(X_test, y_test),\n",
    "    batch_size=128,\n",
    ")"
   ]
  },
  {
   "cell_type": "code",
   "execution_count": 30,
   "metadata": {},
   "outputs": [],
   "source": [
    "def plot_train_history(history):\n",
    "    plt.plot(history.history['accuracy'])\n",
    "    plt.title('Model accuracy')\n",
    "    plt.ylabel('accuracy')\n",
    "    plt.xlabel('epoch')\n",
    "    plt.legend(['train', 'test'], loc='upper left')\n",
    "    plt.show()\n",
    "\n",
    "plot_train_history(history)"
   ]
  },
  {
   "cell_type": "code",
   "execution_count": 31,
   "metadata": {},
   "outputs": [
    {
     "data": {
      "image/png": "[encoded data removed]",
      "text/plain": [
       "<Figure size 432x288 with 1 Axes>"
      ]
     },
     "metadata": {
      "needs_background": "light"
     },
     "output_type": "display_data"
    }
   ],
   "source": []
  },
  {
   "cell_type": "code",
   "execution_count": 32,
   "metadata": {},
   "outputs": [
    {
     "name": "stdout",
     "output_type": "stream",
     "text": [
      "1/1 [==============================] - 0s 2ms/step\n",
      "No_mask\n",
      "[[0. 1.]]\n"
     ]
    }
   ],
   "source": [
    "num = 12\n",
    "img = cv2.imread(test_mask_path[num], cv2.IMREAD_COLOR)\n",
    "pred_img = cv2.resize(img, (32, 32))\n",
    "pred_img = np.array(pred_img, dtype=np.uint8).reshape(-1, 32, 32, 3)\n",
    "y_prediction = model.predict(pred_img, verbose=1)\n",
    "y_pred = format(activity_map.get('c{}'.format(np.argmax(y_prediction))))\n",
    "print(y_pred)\n",
    "print(y_prediction)"
   ]
  },
  {
   "cell_type": "code",
   "execution_count": 33,
   "metadata": {},
   "outputs": [
    {
     "data": {
      "text/plain": [
       "<matplotlib.image.AxesImage at 0x1213e3694f0>"
      ]
     },
     "execution_count": 33,
     "metadata": {},
     "output_type": "execute_result"
    },
    {
     "data": {
      "image/png": "[encoded data removed]",
      "text/plain": [
       "<Figure size 432x288 with 1 Axes>"
      ]
     },
     "metadata": {
      "needs_background": "light"
     },
     "output_type": "display_data"
    }
   ],
   "source": [
    "img = cv2.cvtColor(img, cv2.COLOR_BGR2RGB)\n",
    "plt.imshow(img)"
   ]
  },
  {
   "cell_type": "code",
   "execution_count": 40,
   "metadata": {},
   "outputs": [
    {
     "name": "stdout",
     "output_type": "stream",
     "text": [
      "1/1 [==============================] - 0s 1ms/step\n",
      "No_mask\n",
      "[[0. 1.]]\n",
      "1/1 [==============================] - 0s 992us/step\n",
      "No_mask\n",
      "[[0. 1.]]\n",
      "1/1 [==============================] - 0s 992us/step\n",
      "No_mask\n",
      "[[0. 1.]]\n",
      "1/1 [==============================] - 0s 1ms/step\n",
      "No_mask\n",
      "[[0. 1.]]\n",
      "1/1 [==============================] - 0s 1ms/step\n",
      "No_mask\n",
      "[[0. 1.]]\n",
      "1/1 [==============================] - 0s 992us/step\n",
      "No_mask\n",
      "[[0. 1.]]\n",
      "1/1 [==============================] - 0s 992us/step\n",
      "No_mask\n",
      "[[0. 1.]]\n",
      "1/1 [==============================] - 0s 1ms/step\n",
      "No_mask\n",
      "[[0. 1.]]\n",
      "1/1 [==============================] - 0s 1ms/step\n",
      "No_mask\n",
      "[[0. 1.]]\n",
      "1/1 [==============================] - 0s 2ms/step\n",
      "No_mask\n",
      "[[0. 1.]]\n",
      "1/1 [==============================] - 0s 1ms/step\n",
      "No_mask\n",
      "[[0. 1.]]\n",
      "1/1 [==============================] - 0s 993us/step\n",
      "No_mask\n",
      "[[0. 1.]]\n",
      "1/1 [==============================] - 0s 992us/step\n",
      "No_mask\n",
      "[[0. 1.]]\n",
      "1/1 [==============================] - 0s 993us/step\n",
      "No_mask\n",
      "[[0. 1.]]\n",
      "1/1 [==============================] - 0s 992us/step\n",
      "No_mask\n",
      "[[0. 1.]]\n",
      "1/1 [==============================] - 0s 1ms/step\n",
      "No_mask\n",
      "[[0. 1.]]\n",
      "1/1 [==============================] - 0s 992us/step\n",
      "No_mask\n",
      "[[0. 1.]]\n",
      "1/1 [==============================] - 0s 992us/step\n",
      "No_mask\n",
      "[[0. 1.]]\n",
      "1/1 [==============================] - 0s 1ms/step\n",
      "No_mask\n",
      "[[0. 1.]]\n",
      "1/1 [==============================] - 0s 992us/step\n",
      "No_mask\n",
      "[[0. 1.]]\n",
      "1/1 [==============================] - 0s 1ms/step\n",
      "No_mask\n",
      "[[0. 1.]]\n",
      "1/1 [==============================] - 0s 1ms/step\n",
      "No_mask\n",
      "[[0. 1.]]\n",
      "1/1 [==============================] - 0s 992us/step\n",
      "No_mask\n",
      "[[0. 1.]]\n",
      "1/1 [==============================] - 0s 1ms/step\n",
      "No_mask\n",
      "[[0. 1.]]\n",
      "1/1 [==============================] - 0s 992us/step\n",
      "No_mask\n",
      "[[0. 1.]]\n",
      "1/1 [==============================] - 0s 993us/step\n",
      "No_mask\n",
      "[[0. 1.]]\n",
      "1/1 [==============================] - 0s 993us/step\n",
      "No_mask\n",
      "[[0. 1.]]\n",
      "1/1 [==============================] - 0s 2ms/step\n",
      "No_mask\n",
      "[[0. 1.]]\n",
      "1/1 [==============================] - 0s 992us/step\n",
      "No_mask\n",
      "[[0. 1.]]\n",
      "1/1 [==============================] - 0s 1ms/step\n",
      "No_mask\n",
      "[[0. 1.]]\n",
      "1/1 [==============================] - 0s 991us/step\n",
      "No_mask\n",
      "[[0. 1.]]\n",
      "1/1 [==============================] - 0s 1ms/step\n",
      "No_mask\n",
      "[[0. 1.]]\n",
      "1/1 [==============================] - 0s 992us/step\n",
      "No_mask\n",
      "[[0. 1.]]\n",
      "1/1 [==============================] - 0s 992us/step\n",
      "No_mask\n",
      "[[0. 1.]]\n",
      "1/1 [==============================] - 0s 1ms/step\n",
      "No_mask\n",
      "[[0. 1.]]\n",
      "1/1 [==============================] - 0s 1ms/step\n",
      "No_mask\n",
      "[[0. 1.]]\n",
      "1/1 [==============================] - 0s 1ms/step\n",
      "No_mask\n",
      "[[0. 1.]]\n",
      "1/1 [==============================] - 0s 1ms/step\n",
      "No_mask\n",
      "[[0. 1.]]\n",
      "1/1 [==============================] - 0s 1ms/step\n",
      "No_mask\n",
      "[[0. 1.]]\n",
      "1/1 [==============================] - 0s 1ms/step\n",
      "No_mask\n",
      "[[0. 1.]]\n",
      "1/1 [==============================] - 0s 1ms/step\n",
      "No_mask\n",
      "[[0. 1.]]\n",
      "1/1 [==============================] - 0s 992us/step\n",
      "No_mask\n",
      "[[0. 1.]]\n",
      "1/1 [==============================] - 0s 987us/step\n",
      "No_mask\n",
      "[[0. 1.]]\n",
      "1/1 [==============================] - 0s 1ms/step\n",
      "No_mask\n",
      "[[0. 1.]]\n",
      "1/1 [==============================] - 0s 3ms/step\n",
      "No_mask\n",
      "[[0. 1.]]\n",
      "1/1 [==============================] - ETA:  - 0s 1ms/step\n",
      "No_mask\n",
      "[[0. 1.]]\n",
      "1/1 [==============================] - 0s 1ms/step\n",
      "No_mask\n",
      "[[0. 1.]]\n",
      "1/1 [==============================] - 0s 1ms/step\n",
      "No_mask\n",
      "[[0. 1.]]\n",
      "1/1 [==============================] - 0s 1ms/step\n",
      "No_mask\n",
      "[[0. 1.]]\n",
      "1/1 [==============================] - 0s 992us/step\n",
      "No_mask\n",
      "[[0. 1.]]\n",
      "1/1 [==============================] - 0s 962us/step\n",
      "No_mask\n",
      "[[0. 1.]]\n",
      "1/1 [==============================] - 0s 993us/step\n",
      "No_mask\n",
      "[[0. 1.]]\n",
      "1/1 [==============================] - 0s 1ms/step\n",
      "No_mask\n",
      "[[0. 1.]]\n",
      "1/1 [==============================] - 0s 2ms/step\n",
      "No_mask\n",
      "[[0. 1.]]\n",
      "1/1 [==============================] - 0s 1ms/step\n",
      "No_mask\n",
      "[[0. 1.]]\n",
      "1/1 [==============================] - 0s 1ms/step\n",
      "No_mask\n",
      "[[0. 1.]]\n",
      "1/1 [==============================] - 0s 1ms/step\n",
      "No_mask\n",
      "[[0. 1.]]\n",
      "1/1 [==============================] - 0s 992us/step\n",
      "No_mask\n",
      "[[0. 1.]]\n",
      "1/1 [==============================] - 0s 2ms/step\n",
      "No_mask\n",
      "[[0. 1.]]\n",
      "1/1 [==============================] - 0s 993us/step\n",
      "No_mask\n",
      "[[0. 1.]]\n",
      "1/1 [==============================] - 0s 1ms/step\n",
      "No_mask\n",
      "[[0. 1.]]\n",
      "1/1 [==============================] - 0s 1ms/step\n",
      "No_mask\n",
      "[[0. 1.]]\n",
      "1/1 [==============================] - 0s 1ms/step\n",
      "No_mask\n",
      "[[0. 1.]]\n",
      "1/1 [==============================] - 0s 1ms/step\n",
      "No_mask\n",
      "[[0. 1.]]\n",
      "1/1 [==============================] - 0s 1ms/step\n",
      "No_mask\n",
      "[[0. 1.]]\n",
      "1/1 [==============================] - 0s 1ms/step\n",
      "No_mask\n",
      "[[0. 1.]]\n",
      "1/1 [==============================] - 0s 1ms/step\n",
      "No_mask\n",
      "[[0. 1.]]\n",
      "1/1 [==============================] - 0s 1ms/step\n",
      "No_mask\n",
      "[[0. 1.]]\n",
      "1/1 [==============================] - 0s 1ms/step\n",
      "No_mask\n",
      "[[0. 1.]]\n",
      "1/1 [==============================] - 0s 996us/step\n",
      "No_mask\n",
      "[[0. 1.]]\n",
      "1/1 [==============================] - 0s 993us/step\n",
      "No_mask\n",
      "[[0. 1.]]\n"
     ]
    },
    {
     "ename": "IndexError",
     "evalue": "list index out of range",
     "output_type": "error",
     "traceback": [
      "\u001b[1;31m---------------------------------------------------------------------------\u001b[0m",
      "\u001b[1;31mIndexError\u001b[0m                                Traceback (most recent call last)",
      "\u001b[1;32m<ipython-input-40-1d80f7650399>\u001b[0m in \u001b[0;36m<module>\u001b[1;34m\u001b[0m\n\u001b[0;32m      1\u001b[0m \u001b[1;32mfor\u001b[0m \u001b[0mi\u001b[0m \u001b[1;32min\u001b[0m \u001b[0mrange\u001b[0m\u001b[1;33m(\u001b[0m\u001b[1;36m100\u001b[0m\u001b[1;33m)\u001b[0m\u001b[1;33m:\u001b[0m\u001b[1;33m\u001b[0m\u001b[1;33m\u001b[0m\u001b[0m\n\u001b[0;32m      2\u001b[0m     \u001b[0mnum\u001b[0m \u001b[1;33m=\u001b[0m \u001b[1;36m12\u001b[0m\u001b[1;33m\u001b[0m\u001b[1;33m\u001b[0m\u001b[0m\n\u001b[1;32m----> 3\u001b[1;33m     \u001b[0mimg\u001b[0m \u001b[1;33m=\u001b[0m \u001b[0mcv2\u001b[0m\u001b[1;33m.\u001b[0m\u001b[0mimread\u001b[0m\u001b[1;33m(\u001b[0m\u001b[0mval_mask_path\u001b[0m\u001b[1;33m[\u001b[0m\u001b[0mi\u001b[0m\u001b[1;33m]\u001b[0m\u001b[1;33m,\u001b[0m \u001b[0mcv2\u001b[0m\u001b[1;33m.\u001b[0m\u001b[0mIMREAD_COLOR\u001b[0m\u001b[1;33m)\u001b[0m\u001b[1;33m\u001b[0m\u001b[1;33m\u001b[0m\u001b[0m\n\u001b[0m\u001b[0;32m      4\u001b[0m     \u001b[0mpred_img\u001b[0m \u001b[1;33m=\u001b[0m \u001b[0mcv2\u001b[0m\u001b[1;33m.\u001b[0m\u001b[0mresize\u001b[0m\u001b[1;33m(\u001b[0m\u001b[0mimg\u001b[0m\u001b[1;33m,\u001b[0m \u001b[1;33m(\u001b[0m\u001b[1;36m32\u001b[0m\u001b[1;33m,\u001b[0m \u001b[1;36m32\u001b[0m\u001b[1;33m)\u001b[0m\u001b[1;33m)\u001b[0m\u001b[1;33m\u001b[0m\u001b[1;33m\u001b[0m\u001b[0m\n\u001b[0;32m      5\u001b[0m     \u001b[0mpred_img\u001b[0m \u001b[1;33m=\u001b[0m \u001b[0mnp\u001b[0m\u001b[1;33m.\u001b[0m\u001b[0marray\u001b[0m\u001b[1;33m(\u001b[0m\u001b[0mpred_img\u001b[0m\u001b[1;33m,\u001b[0m \u001b[0mdtype\u001b[0m\u001b[1;33m=\u001b[0m\u001b[0mnp\u001b[0m\u001b[1;33m.\u001b[0m\u001b[0muint8\u001b[0m\u001b[1;33m)\u001b[0m\u001b[1;33m.\u001b[0m\u001b[0mreshape\u001b[0m\u001b[1;33m(\u001b[0m\u001b[1;33m-\u001b[0m\u001b[1;36m1\u001b[0m\u001b[1;33m,\u001b[0m \u001b[1;36m32\u001b[0m\u001b[1;33m,\u001b[0m \u001b[1;36m32\u001b[0m\u001b[1;33m,\u001b[0m \u001b[1;36m3\u001b[0m\u001b[1;33m)\u001b[0m\u001b[1;33m\u001b[0m\u001b[1;33m\u001b[0m\u001b[0m\n",
      "\u001b[1;31mIndexError\u001b[0m: list index out of range"
     ]
    }
   ],
   "source": [
    "for i in range(100):\n",
    "    num = 1\n",
    "    img = cv2.imread(val_mask_path[i], cv2.IMREAD_COLOR)\n",
    "    pred_img = cv2.resize(img, (32, 32))\n",
    "    pred_img = np.array(pred_img, dtype=np.uint8).reshape(-1, 32, 32, 3)\n",
    "    y_prediction = model.predict(pred_img, verbose=1)\n",
    "    y_pred = format(activity_map.get('c{}'.format(np.argmax(y_prediction))))\n",
    "    print(y_pred)\n",
    "    print(y_prediction)"
   ]
  }
 ],
 "metadata": {
  "kernelspec": {
   "display_name": "Python 3",
   "language": "python",
   "name": "python3"
  },
  "language_info": {
   "codemirror_mode": {
    "name": "ipython",
    "version": 3
   },
   "file_extension": ".py",
   "mimetype": "text/x-python",
   "name": "python",
   "nbconvert_exporter": "python",
   "pygments_lexer": "ipython3",
   "version": "3.8.3"
  }
 },
 "nbformat": 4,
 "nbformat_minor": 4
}
